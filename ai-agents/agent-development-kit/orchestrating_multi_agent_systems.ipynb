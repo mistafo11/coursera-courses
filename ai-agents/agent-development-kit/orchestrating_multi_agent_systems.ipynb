{
  "cells": [
    {
      "cell_type": "code",
      "execution_count": null,
      "id": "EZsNdGXULVe3LnjTQwaZbotH",
      "metadata": {
        "id": "EZsNdGXULVe3LnjTQwaZbotH",
        "tags": []
      },
      "outputs": [],
      "source": [
        "# Copyright 2025 Google LLC\n",
        "#\n",
        "# Licensed under the Apache License, Version 2.0 (the \"License\");\n",
        "# you may not use this file except in compliance with the License.\n",
        "# You may obtain a copy of the License at\n",
        "#\n",
        "#     https://www.apache.org/licenses/LICENSE-2.0\n",
        "#\n",
        "# Unless required by applicable law or agreed to in writing, software\n",
        "# distributed under the License is distributed on an \"AS IS\" BASIS,\n",
        "# WITHOUT WARRANTIES OR CONDITIONS OF ANY KIND, either express or implied.\n",
        "# See the License for the specific language governing permissions and\n",
        "# limitations under the License."
      ]
    },
    {
      "cell_type": "markdown",
      "id": "ZqLHpMl1MOXg",
      "metadata": {
        "id": "ZqLHpMl1MOXg"
      },
      "source": [
        "# Orchestrating Multi-Agent Systems with Google Agent Development Kit\n",
        "\n",
        "<table align=\"left\">\n",
        "  <td style=\"text-align: center\">\n",
        "    <a href=\"https://colab.research.google.com/github/iamthuya/google-cloud-workshops/blob/main/ai-agents/agent-development-kit/orchestrating_multi_agent_systems.ipynb\">\n",
        "      <img src=\"https://cloud.google.com/ml-engine/images/colab-logo-32px.png\" alt=\"Google Colaboratory logo\"><br> Run in Colab\n",
        "    </a>\n",
        "  </td>\n",
        "  <td style=\"text-align: center\">\n",
        "    <a href=\"https://console.cloud.google.com/vertex-ai/colab/import/https:%2F%2Fraw.githubusercontent.com%2Fiamthuya%2Fgoogle-cloud-workshops%2Fmain%2Fai-agents%2Fagent-development-kit%2Forchestrating_multi_agent_systems.ipynb\">\n",
        "      <img width=\"32px\" src=\"https://lh3.googleusercontent.com/JmcxdQi-qOpctIvWKgPtrzZdJJK-J3sWE1RsfjZNwshCFgE_9fULcNpuXYTilIR2hjwN\" alt=\"Google Cloud Colab Enterprise logo\"><br> Run in Colab Enterprise\n",
        "    </a>\n",
        "  </td>      \n",
        "  <td style=\"text-align: center\">\n",
        "    <a href=\"https://github.com/iamthuya/google-cloud-workshops/blob/main/ai-agents/agent-development-kit/orchestrating_multi_agent_systems.ipynb\">\n",
        "      <img src=\"https://cloud.google.com/ml-engine/images/github-logo-32px.png\" alt=\"GitHub logo\"><br> View on GitHub\n",
        "    </a>\n",
        "  </td>\n",
        "  <td style=\"text-align: center\">\n",
        "    <a href=\"https://console.cloud.google.com/vertex-ai/workbench/deploy-notebook?download_url=https://raw.githubusercontent.com/iamthuya/google-cloud-workshops/blob/main/ai-agents/agent-development-kit/orchestrating_multi-agent_systems.ipynb\">\n",
        "      <img src=\"https://lh3.googleusercontent.com/UiNooY4LUgW_oTvpsNhPpQzsstV5W8F7rYgxgGBD85cWJoLmrOzhVs_ksK_vgx40SHs7jCqkTkCk=e14-rj-sc0xffffff-h130-w32\" alt=\"Vertex AI logo\"><br> Open in Vertex AI Workbench\n",
        "    </a>\n",
        "  </td>\n",
        "</table>"
      ]
    },
    {
      "cell_type": "markdown",
      "id": "tcb6_bFE4kr9",
      "metadata": {
        "id": "tcb6_bFE4kr9"
      },
      "source": [
        "| | |\n",
        "|-|-|\n",
        "|Author(s) | [Thu Ya Kyaw](https://github.com/iamthuya) |"
      ]
    },
    {
      "cell_type": "markdown",
      "id": "bdd85054-7d9a-4abd-9443-88afb347b110",
      "metadata": {
        "id": "bdd85054-7d9a-4abd-9443-88afb347b110"
      },
      "source": [
        "## Environment Setup"
      ]
    },
    {
      "cell_type": "markdown",
      "id": "DD39LxKq4MsD",
      "metadata": {
        "id": "DD39LxKq4MsD"
      },
      "source": [
        "### Install Necessary Libraries\n",
        "\n",
        "Here you will install required Python packages for this lab."
      ]
    },
    {
      "cell_type": "code",
      "execution_count": 1,
      "id": "b4cUyTwE17VJ",
      "metadata": {
        "id": "b4cUyTwE17VJ",
        "tags": [],
        "outputId": "401bd5b8-6a69-42c8-977e-0e1d48ec140c",
        "colab": {
          "base_uri": "https://localhost:8080/"
        }
      },
      "outputs": [
        {
          "output_type": "stream",
          "name": "stdout",
          "text": [
            "\u001b[2K   \u001b[90m━━━━━━━━━━━━━━━━━━━━━━━━━━━━━━━━━━━━━━━━\u001b[0m \u001b[32m1.3/1.3 MB\u001b[0m \u001b[31m13.4 MB/s\u001b[0m eta \u001b[36m0:00:00\u001b[0m\n",
            "\u001b[2K   \u001b[90m━━━━━━━━━━━━━━━━━━━━━━━━━━━━━━━━━━━━━━━━\u001b[0m \u001b[32m240.0/240.0 kB\u001b[0m \u001b[31m4.0 MB/s\u001b[0m eta \u001b[36m0:00:00\u001b[0m\n",
            "\u001b[2K   \u001b[90m━━━━━━━━━━━━━━━━━━━━━━━━━━━━━━━━━━━━━━━━\u001b[0m \u001b[32m218.1/218.1 kB\u001b[0m \u001b[31m11.9 MB/s\u001b[0m eta \u001b[36m0:00:00\u001b[0m\n",
            "\u001b[2K   \u001b[90m━━━━━━━━━━━━━━━━━━━━━━━━━━━━━━━━━━━━━━━━\u001b[0m \u001b[32m335.7/335.7 kB\u001b[0m \u001b[31m9.0 MB/s\u001b[0m eta \u001b[36m0:00:00\u001b[0m\n",
            "\u001b[2K   \u001b[90m━━━━━━━━━━━━━━━━━━━━━━━━━━━━━━━━━━━━━━━━\u001b[0m \u001b[32m130.2/130.2 kB\u001b[0m \u001b[31m6.7 MB/s\u001b[0m eta \u001b[36m0:00:00\u001b[0m\n",
            "\u001b[2K   \u001b[90m━━━━━━━━━━━━━━━━━━━━━━━━━━━━━━━━━━━━━━━━\u001b[0m \u001b[32m65.8/65.8 kB\u001b[0m \u001b[31m3.6 MB/s\u001b[0m eta \u001b[36m0:00:00\u001b[0m\n",
            "\u001b[2K   \u001b[90m━━━━━━━━━━━━━━━━━━━━━━━━━━━━━━━━━━━━━━━━\u001b[0m \u001b[32m118.5/118.5 kB\u001b[0m \u001b[31m3.0 MB/s\u001b[0m eta \u001b[36m0:00:00\u001b[0m\n",
            "\u001b[2K   \u001b[90m━━━━━━━━━━━━━━━━━━━━━━━━━━━━━━━━━━━━━━━━\u001b[0m \u001b[32m196.2/196.2 kB\u001b[0m \u001b[31m11.1 MB/s\u001b[0m eta \u001b[36m0:00:00\u001b[0m\n",
            "\u001b[2K   \u001b[90m━━━━━━━━━━━━━━━━━━━━━━━━━━━━━━━━━━━━━━━━\u001b[0m \u001b[32m64.8/64.8 kB\u001b[0m \u001b[31m4.2 MB/s\u001b[0m eta \u001b[36m0:00:00\u001b[0m\n",
            "\u001b[2K   \u001b[90m━━━━━━━━━━━━━━━━━━━━━━━━━━━━━━━━━━━━━━━━\u001b[0m \u001b[32m229.5/229.5 kB\u001b[0m \u001b[31m10.6 MB/s\u001b[0m eta \u001b[36m0:00:00\u001b[0m\n",
            "\u001b[2K   \u001b[90m━━━━━━━━━━━━━━━━━━━━━━━━━━━━━━━━━━━━━━━━\u001b[0m \u001b[32m103.8/103.8 kB\u001b[0m \u001b[31m3.8 MB/s\u001b[0m eta \u001b[36m0:00:00\u001b[0m\n",
            "\u001b[2K   \u001b[90m━━━━━━━━━━━━━━━━━━━━━━━━━━━━━━━━━━━━━━━━\u001b[0m \u001b[32m44.4/44.4 kB\u001b[0m \u001b[31m1.4 MB/s\u001b[0m eta \u001b[36m0:00:00\u001b[0m\n",
            "\u001b[?25h\u001b[31mERROR: pip's dependency resolver does not currently take into account all the packages that are installed. This behaviour is the source of the following dependency conflicts.\n",
            "google-colab 1.0.0 requires requests==2.32.3, but you have requests 2.32.4 which is incompatible.\u001b[0m\u001b[31m\n",
            "\u001b[0m"
          ]
        }
      ],
      "source": [
        "%pip install -U -q google-adk"
      ]
    },
    {
      "cell_type": "code",
      "execution_count": 2,
      "id": "c6d02b38-f977-4c5f-9f2e-5c3d1757fa3c",
      "metadata": {
        "id": "c6d02b38-f977-4c5f-9f2e-5c3d1757fa3c",
        "outputId": "7baf487c-dd26-4c6f-a248-1eecb2cb03d7",
        "colab": {
          "base_uri": "https://localhost:8080/"
        }
      },
      "outputs": [
        {
          "output_type": "stream",
          "name": "stdout",
          "text": [
            "1.4.2\n"
          ]
        }
      ],
      "source": [
        "# Check ADK version\n",
        "from google import adk\n",
        "\n",
        "print(adk.__version__)"
      ]
    },
    {
      "cell_type": "markdown",
      "id": "47U_n5Y145JE",
      "metadata": {
        "id": "47U_n5Y145JE"
      },
      "source": [
        "### Restart current runtime\n",
        "\n",
        "To use the newly installed packages in this Jupyter runtime, you must restart the runtime. You can do this by running the cell below, which will restart the current kernel.\n",
        "\n",
        "Don't worry if you see a notification message like `Your session crashed for an unknown reason.` This is expected as you are shutting down the kernel from the same instance using code.\n"
      ]
    },
    {
      "cell_type": "code",
      "execution_count": 3,
      "id": "R2Rzk6mnRh7y",
      "metadata": {
        "id": "R2Rzk6mnRh7y",
        "tags": [],
        "outputId": "f1ee51f6-9a80-49fc-bde7-d7f29ef65f79",
        "colab": {
          "base_uri": "https://localhost:8080/"
        }
      },
      "outputs": [
        {
          "output_type": "execute_result",
          "data": {
            "text/plain": [
              "{'status': 'ok', 'restart': True}"
            ]
          },
          "metadata": {},
          "execution_count": 3
        }
      ],
      "source": [
        "import IPython\n",
        "\n",
        "app = IPython.Application.instance()\n",
        "app.kernel.do_shutdown(True)"
      ]
    },
    {
      "cell_type": "markdown",
      "id": "56a37e59-0baa-4574-8f0b-4d051e28a758",
      "metadata": {
        "id": "56a37e59-0baa-4574-8f0b-4d051e28a758"
      },
      "source": [
        "<div class=\"alert alert-block alert-warning\">\n",
        "<b>⚠️ The kernel is going to restart. Please wait until it is finished before continuing to the next step. ⚠️</b>\n",
        "</div>"
      ]
    },
    {
      "cell_type": "markdown",
      "id": "c5824ed8-972e-484c-a1da-23523d29f4c7",
      "metadata": {
        "id": "c5824ed8-972e-484c-a1da-23523d29f4c7"
      },
      "source": [
        "### Import Required Libraries"
      ]
    },
    {
      "cell_type": "code",
      "execution_count": 1,
      "id": "3b18aeb4-3aa7-4f30-a553-b3d48d84f58c",
      "metadata": {
        "id": "3b18aeb4-3aa7-4f30-a553-b3d48d84f58c"
      },
      "outputs": [],
      "source": [
        "import os\n",
        "import asyncio\n",
        "\n",
        "from google.adk.agents import LlmAgent, SequentialAgent, ParallelAgent, LoopAgent\n",
        "from google.adk.runners import Runner\n",
        "from google.adk.sessions import InMemorySessionService\n",
        "from google.adk.tools import google_search, ToolContext\n",
        "from google.genai import types\n",
        "\n",
        "from IPython.display import Markdown, display"
      ]
    },
    {
      "cell_type": "markdown",
      "id": "f82256a4-bb75-45a6-b7f9-ef4a7d046655",
      "metadata": {
        "id": "f82256a4-bb75-45a6-b7f9-ef4a7d046655"
      },
      "source": [
        "### Define Environment Variables"
      ]
    },
    {
      "cell_type": "code",
      "execution_count": 10,
      "id": "4c9bd5fd-cc48-4ba6-aa0a-166fc12a2391",
      "metadata": {
        "id": "4c9bd5fd-cc48-4ba6-aa0a-166fc12a2391"
      },
      "outputs": [],
      "source": [
        "from google.colab import userdata\n",
        "\n",
        "os.environ[\"GOOGLE_GENAI_USE_VERTEXAI\"] = \"False\"\n",
        "os.environ[\"GOOGLE_API_KEY\"] = userdata.get('GOOGLE_API_KEY_2')"
      ]
    },
    {
      "cell_type": "markdown",
      "id": "00eb04b4-a098-4766-9547-cc250019bc2b",
      "metadata": {
        "id": "00eb04b4-a098-4766-9547-cc250019bc2b"
      },
      "source": [
        "## Sequential Agents\n",
        "\n",
        "In this section, you'll create an agent that researches a topic, then writes in detail about it, and finally edits the output. These steps must happen in order: research first, then writing, and then editing, because you can't write without research, and you can't edit without a written piece."
      ]
    },
    {
      "cell_type": "code",
      "execution_count": 5,
      "id": "1c2f0b78-47d0-4111-81ce-a46305e981d5",
      "metadata": {
        "id": "1c2f0b78-47d0-4111-81ce-a46305e981d5"
      },
      "outputs": [],
      "source": [
        "# Define variables\n",
        "GEMINI_MODEL_NAME = \"gemini-2.5-flash-preview-04-17\"\n",
        "APP_NAME = \"sequential_app\"\n",
        "USER_ID = \"sequential_user\"\n",
        "SESSION_ID = \"sequential_session\""
      ]
    },
    {
      "cell_type": "markdown",
      "id": "sQxNLm3ZdNL4",
      "metadata": {
        "id": "sQxNLm3ZdNL4"
      },
      "source": [
        "#### Initialize the agents and pipeline"
      ]
    },
    {
      "cell_type": "code",
      "execution_count": 6,
      "id": "f1f88c84-4d25-45e7-a077-574ccff4ead0",
      "metadata": {
        "id": "f1f88c84-4d25-45e7-a077-574ccff4ead0"
      },
      "outputs": [],
      "source": [
        "# Define respective agents and pipeline\n",
        "researcher = LlmAgent(\n",
        "    name=\"ResearcherAgent\",\n",
        "    model=GEMINI_MODEL_NAME,\n",
        "    instruction=\"Your task is to use 'google_search' tool to find all the relavent information about a given topic and write a comprehensive report about that topic.\",\n",
        "    tools=[google_search],\n",
        "    description=\"Researches about a topic\",\n",
        "    output_key=\"research_results\"\n",
        ")\n",
        "\n",
        "writer = LlmAgent(\n",
        "    name=\"WriterAgent\",\n",
        "    model=GEMINI_MODEL_NAME,\n",
        "    instruction=\"Your task is to write a comprehensive report using this information: {research_results}. Make sure to expend on all the topics from the provided information.\",\n",
        "    description=\"Write about a comprehensive report based on the provided information\",\n",
        "    output_key=\"comprehensive_report\"\n",
        ")\n",
        "\n",
        "editor = LlmAgent(\n",
        "    name=\"EditorAgent\",\n",
        "    model=GEMINI_MODEL_NAME,\n",
        "    instruction=\"Your task is to edit a report: {comprehensive_report}. Perform a quality check on the text and improve it if necessary.\",\n",
        "    description=\"Perform quality check on a written report\",\n",
        ")\n",
        "\n",
        "sequential_pipeline = SequentialAgent(\n",
        "    name=\"ContentPipelineAgent\",\n",
        "    sub_agents=[researcher, writer, editor],\n",
        "    description=\"Executes a sequence of researching, writing, and editing.\",\n",
        ")"
      ]
    },
    {
      "cell_type": "markdown",
      "id": "L9A8AR_JlR1E",
      "metadata": {
        "id": "L9A8AR_JlR1E"
      },
      "source": [
        "### Initialize Session & Runner"
      ]
    },
    {
      "cell_type": "code",
      "execution_count": 18,
      "id": "6a7e4e15-4ee6-4309-9712-58896b3803cc",
      "metadata": {
        "id": "6a7e4e15-4ee6-4309-9712-58896b3803cc"
      },
      "outputs": [],
      "source": [
        "# Initialize Session\n",
        "session_service = InMemorySessionService()\n",
        "\n",
        "session = await session_service.create_session(\n",
        "    app_name=APP_NAME,\n",
        "    user_id=USER_ID,\n",
        "    session_id=SESSION_ID\n",
        ")\n",
        "\n",
        "# Initialize Runner\n",
        "sequential_runner = Runner(\n",
        "    agent=sequential_pipeline,\n",
        "    app_name=APP_NAME,\n",
        "    session_service=session_service,\n",
        ")"
      ]
    },
    {
      "cell_type": "markdown",
      "id": "TW5SfOyvlVyq",
      "metadata": {
        "id": "TW5SfOyvlVyq"
      },
      "source": [
        "### Define a function to interact with Agent"
      ]
    },
    {
      "cell_type": "code",
      "execution_count": 8,
      "id": "053875aa-f522-411c-b140-46d1ec2ac5fb",
      "metadata": {
        "id": "053875aa-f522-411c-b140-46d1ec2ac5fb"
      },
      "outputs": [],
      "source": [
        "# Define a function to interact with the agent\n",
        "async def run_agent(runner, user_id, session_id, user_query):\n",
        "    user_message = types.Content(\n",
        "        role=\"user\",\n",
        "        parts=[types.Part(text=user_query)]\n",
        "    )\n",
        "\n",
        "    events = runner.run_async(\n",
        "        user_id=user_id,\n",
        "        session_id=session_id,\n",
        "        new_message=user_message\n",
        "    )\n",
        "\n",
        "    output = {}\n",
        "    async for event in events:\n",
        "        if event.is_final_response():\n",
        "            author = event.author\n",
        "            report = event.content.parts[0].text\n",
        "            output[author] = report\n",
        "\n",
        "            display(Markdown(f\"## {author}\"))\n",
        "            display(Markdown(f\"{report}\"))\n",
        "\n",
        "    return output"
      ]
    },
    {
      "cell_type": "code",
      "execution_count": 19,
      "id": "8ef2cc0f-9efe-4a59-874c-8410f238175b",
      "metadata": {
        "colab": {
          "base_uri": "https://localhost:8080/",
          "height": 1000
        },
        "id": "8ef2cc0f-9efe-4a59-874c-8410f238175b",
        "outputId": "3241d30c-9fec-4442-8bea-d496117f7eb6"
      },
      "outputs": [
        {
          "output_type": "display_data",
          "data": {
            "text/plain": [
              "<IPython.core.display.Markdown object>"
            ],
            "text/markdown": "## ResearcherAgent"
          },
          "metadata": {}
        },
        {
          "output_type": "display_data",
          "data": {
            "text/plain": [
              "<IPython.core.display.Markdown object>"
            ],
            "text/markdown": "## The Current State of Generative AI in 2025\n\nGenerative AI, a transformative branch of artificial intelligence focused on creating new content, is rapidly evolving and becoming increasingly integrated into various aspects of technology and business in 2025. Moving beyond initial applications, generative AI is shifting from being a supplementary feature to an integral part of application design, leading to the rise of \"AI-first\" applications.\n\nA significant trend is the advancement towards multimodal AI, where models can seamlessly process and generate content across different modalities, including text, images, audio, and video. This capability is enhancing user experiences and opening up new possibilities for content creation and interaction. Real-time interaction with AI agents is also becoming more sophisticated, with AI agents capable of understanding spoken language and generating audio content in real-time, minimizing reliance on prompt engineering for some tasks.\n\nThe development and integration of AI agents are accelerating. These agents are designed to perform autonomous tasks and integrate directly into enterprise workflows, potentially becoming more dominant than Retrieval-Augmented Generation (RAG) in certain applications by leveraging enterprise data and workflows for more accurate outcomes.\n\nHyper-personalization is another key area where generative AI is making a significant impact. By analyzing user data and preferences, generative AI can tailor experiences in various sectors, from generating unique product descriptions and virtual try-ons in e-commerce to developing personalized treatment plans in healthcare.\n\nAdoption and investment in generative AI are widespread across industries. Businesses are increasingly deploying AI for tasks such as content generation, marketing, customer service automation, and even strategic and scientific applications. Notable applications include accelerating drug discovery through molecular simulation and generating synthetic patient data in healthcare, as well as creating dynamic content for marketing and media.\n\nDespite the rapid advancements and widespread adoption, several challenges persist in the development and implementation of generative AI solutions. These include issues related to data sourcing and mitigating bias in AI models to ensure fairness and trustworthiness. Integrating generative AI with existing systems can be complex, and ensuring scalability to handle increasing workloads remains a challenge. Data security is a major concern for both companies and customers, particularly regarding the handling of sensitive information. Intellectual property concerns also continue to be debated, with creators raising issues about the use of their data in model training and the potential for displacement by AI-generated content. Furthermore, there is a recognized need for a skilled workforce capable of developing, deploying, and managing generative AI technologies.\n\nEthical considerations, such as countering bias, increasing transparency, and building trust in AI systems, are receiving renewed focus. Companies are exploring techniques like training models on more heterogeneous datasets and implementing \"explainable AI\" frameworks.\n\nSustainability is also becoming a more pressing concern as generative AI models grow in complexity and require significant energy. Efforts are being directed towards improving algorithms and hardware for greater energy efficiency, with a move towards techniques like model pruning and using specialized chips, as well as the adoption of carbon-neutral data centers.\n\nEmerging trends also include the rise of generative user interfaces that dynamically adapt based on user interactions, and the deeper integration of AI applications with hardware, such as AI smartphones and PCs. The open-source AI community is also contributing to advancements, with open models becoming more popular and improving in performance.\n\nWhile the adoption of generative AI is widespread, there is still a gap between the initial hype and the reality of full integration into core business operations for many organizations. However, businesses are learning where AI truly adds value and are moving towards a more realistic and sustainable integration of these technologies. The current state of generative AI in 2025 is one of dynamic growth, increasing sophistication, and broadening application, while also navigating significant technical, ethical, and societal challenges."
          },
          "metadata": {}
        },
        {
          "output_type": "display_data",
          "data": {
            "text/plain": [
              "<IPython.core.display.Markdown object>"
            ],
            "text/markdown": "## WriterAgent"
          },
          "metadata": {}
        },
        {
          "output_type": "display_data",
          "data": {
            "text/plain": [
              "<IPython.core.display.Markdown object>"
            ],
            "text/markdown": "## Comprehensive Report on the Current State of Generative AI in 2025\n\n**Executive Summary:**\n\nIn 2025, Generative AI stands as a transformative technology, rapidly evolving from a supplementary feature to an integral component of application design, driving the emergence of \"AI-first\" solutions. Key advancements include the maturation of multimodal AI, sophisticated real-time AI agent interactions, and accelerating integration of autonomous agents into enterprise workflows. Hyper-personalization is significantly impacting various sectors. While adoption and investment are widespread across industries for diverse applications, the field navigates significant challenges related to data, bias, integration, scalability, security, and intellectual property. Concurrently, ethical considerations regarding bias, transparency, and trust, alongside sustainability concerns related to energy consumption, are receiving increased focus. Emerging trends include generative user interfaces and deeper hardware integration. Despite widespread interest, a gap exists between initial hype and full core business integration, with organizations focusing on identifying and implementing realistic, value-adding applications while addressing complex technical, ethical, and societal challenges.\n\n**1. Introduction**\n\nGenerative AI, defined by its ability to create new content, is undergoing a period of dynamic growth and increasing sophistication in 2025. Its influence is expanding across technology and business, moving beyond its initial applications as an add-on. This shift signifies a fundamental change in how applications are designed, leading to the rise of \"AI-first\" approaches where generative capabilities are central to the system's architecture and functionality.\n\n**2. Key Advancements and Trends**\n\nSeveral significant trends are shaping the landscape of Generative AI in 2025:\n\n*   **Shift to AI-First Applications:** Generative AI is no longer merely enhancing existing applications but is becoming the foundation upon which new applications are built. This strategic shift emphasizes the core role of AI in delivering value.\n*   **Advancement in Multimodal AI:** A major trend is the increasing capability of AI models to seamlessly process and generate content across multiple modalities. This includes text, images, audio, and video, enhancing user experiences and unlocking new avenues for content creation and interaction that were previously fragmented.\n*   **Sophisticated Real-Time AI Agent Interaction:** AI agents are becoming capable of real-time interaction. This includes understanding spoken language and generating audio content spontaneously, which helps minimize the reliance on traditional prompt engineering for certain tasks, making interactions more natural and efficient.\n*   **Acceleration of AI Agent Development and Integration:** The development and deployment of AI agents designed for autonomous tasks are accelerating. These agents are increasingly integrated directly into enterprise workflows. Their ability to leverage enterprise data and internal processes suggests they may become more dominant than Retrieval-Augmented Generation (RAG) in specific applications by delivering more accurate and contextually relevant outcomes.\n*   **Rise of Hyper-Personalization:** Generative AI is driving significant impact through hyper-personalization. By analyzing detailed user data and preferences, AI can tailor experiences across diverse sectors. Examples include generating unique product descriptions and enabling virtual try-ons in e-commerce, and developing highly individualized treatment plans in healthcare.\n\n**3. Adoption and Investment**\n\nAdoption and investment in Generative AI solutions are widespread across numerous industries in 2025. Businesses are actively deploying AI for a variety of tasks, moving beyond simple content generation. These applications include:\n\n*   General content creation.\n*   Marketing automation and dynamic content generation.\n*   Customer service automation.\n*   Strategic decision support.\n*   Scientific research and development.\n\nNotable industry-specific applications include:\n\n*   **Healthcare:** Accelerating drug discovery through molecular simulation and generating synthetic patient data for research and training.\n*   **Marketing and Media:** Creating dynamic and personalized content experiences.\n\nThis broad deployment across critical business functions highlights the perceived value and potential return on investment in Generative AI technologies.\n\n**4. Persistent Challenges**\n\nDespite the rapid progress and widespread adoption, several significant challenges continue to confront the development and implementation of Generative AI solutions:\n\n*   **Data Sourcing and Bias Mitigation:** Ensuring access to diverse, high-quality data for training is challenging. Furthermore, mitigating bias within AI models to ensure fairness, equity, and trustworthiness remains a critical and ongoing technical and ethical hurdle.\n*   **Integration with Existing Systems:** Integrating sophisticated Generative AI models and applications with legacy or existing enterprise IT infrastructure can be complex and requires significant technical effort.\n*   **Scalability:** Scaling Generative AI solutions to handle increasing workloads, user demands, and data volumes efficiently remains a technical challenge.\n*   **Data Security:** Protecting sensitive data used in training and processing, for both companies and customers, is a major concern requiring robust security measures.\n*   **Intellectual Property (IP) Concerns:** Debates continue regarding intellectual property rights. Creators raise issues about the use of their copyrighted data in training large models and the potential for human creators to be displaced by AI-generated content.\n*   **Skilled Workforce:** There is a recognized need for a sufficiently skilled workforce capable of developing, deploying, managing, and maintaining complex Generative AI technologies effectively.\n\n**5. Ethical Considerations**\n\nEthical considerations surrounding Generative AI are receiving renewed and intense focus in 2025. Key areas of concern include:\n\n*   **Countering Bias:** Actively working to identify and eliminate biases within models and their outputs.\n*   **Increasing Transparency:** Improving understanding of how AI models arrive at their outputs (\"explainable AI\").\n*   **Building Trust:** Fostering user and societal trust in AI systems and their capabilities.\n\nCompanies are exploring various techniques to address these concerns, such as training models on more heterogeneous and representative datasets and implementing frameworks for \"explainable AI\" to provide insight into decision-making processes.\n\n**6. Sustainability Concerns**\n\nAs Generative AI models grow in size and complexity, their significant energy requirements are bringing sustainability to the forefront as a pressing concern. Efforts are being directed towards making AI more energy-efficient:\n\n*   Improving algorithms to reduce computational load.\n*   Developing more energy-efficient hardware.\n*   Implementing techniques like model pruning to reduce model size and complexity.\n*   Utilizing specialized energy-efficient chips.\n*   Increasing adoption of carbon-neutral data centers for hosting AI infrastructure.\n\n**7. Emerging Trends**\n\nBeyond the core advancements, several emerging trends indicate the future direction of Generative AI:\n\n*   **Generative User Interfaces:** The rise of user interfaces that dynamically adapt and personalize based on real-time user interactions.\n*   **Deeper Hardware Integration:** Increasing integration of AI applications directly with hardware, exemplified by the emergence of \"AI smartphones\" and \"AI PCs\" with dedicated processing capabilities.\n*   **Open-Source Community Contributions:** The open-source AI community continues to be a significant driver of innovation, with open models becoming more popular and showing continuous improvement in performance.\n\n**8. Adoption vs. Reality**\n\nWhile Generative AI adoption is widespread, there is a recognized gap between the initial excitement (\"hype\") and the reality of achieving full, seamless integration into core business operations for many organizations. However, businesses are moving past the experimental phase and are learning where Generative AI truly adds demonstrable value. This understanding is leading towards a more realistic, strategic, and sustainable integration of these technologies focused on specific use cases that deliver tangible benefits.\n\n**9. Conclusion**\n\nThe current state of Generative AI in 2025 is characterized by dynamic growth, increasing sophistication, and a broadening range of applications across nearly all sectors. The shift towards AI-first design, coupled with advancements in multimodal capabilities and autonomous agents, signals a maturing technology. However, this expansion is accompanied by significant technical challenges related to data, integration, and scalability, as well as critical ethical and societal issues concerning bias, security, intellectual property, and sustainability. As businesses navigate these complexities, they are moving towards a more realistic and sustainable integration model, focusing on proven value delivery. Generative AI remains a powerful, transformative force, poised for further evolution while requiring careful management of its associated challenges."
          },
          "metadata": {}
        },
        {
          "output_type": "display_data",
          "data": {
            "text/plain": [
              "<IPython.core.display.Markdown object>"
            ],
            "text/markdown": "## EditorAgent"
          },
          "metadata": {}
        },
        {
          "output_type": "display_data",
          "data": {
            "text/plain": [
              "<IPython.core.display.Markdown object>"
            ],
            "text/markdown": "Here is the quality-checked and slightly refined version of the report:\n\n## Comprehensive Report on the Current State of Generative AI in 2025\n\n**Executive Summary:**\n\nIn 2025, Generative AI stands as a transformative technology, rapidly evolving from a supplementary feature to an integral component of application design, driving the emergence of \"AI-first\" solutions. Key advancements include the maturation of multimodal AI, sophisticated real-time AI agent interactions, and accelerating integration of autonomous agents into enterprise workflows. Hyper-personalization is significantly impacting various sectors. Adoption and investment are widespread across industries for diverse applications. The field navigates significant challenges related to data, bias, integration, scalability, security, and intellectual property. Concurrently, ethical considerations regarding bias, transparency, and trust, alongside sustainability concerns related to energy consumption, are receiving increased focus. Emerging trends include generative user interfaces and deeper hardware integration. Despite widespread interest, a gap exists between initial hype and full core business integration, with organizations focusing on identifying and implementing realistic, value-adding applications while addressing complex technical, ethical, and societal challenges.\n\n**1. Introduction**\n\nGenerative AI, defined by its capacity to create novel content, is undergoing a period of dynamic growth and increasing sophistication in 2025. Its influence is expanding across technology and business, moving beyond its initial applications as an add-on. This shift signifies a fundamental change in how applications are designed, leading to the rise of \"AI-first\" approaches where generative capabilities are central to a system's architecture and functionality.\n\n**2. Key Advancements and Trends**\n\nSeveral significant trends are shaping the landscape of Generative AI in 2025:\n\n*   **Shift to AI-First Applications:** Generative AI is increasingly becoming the foundational layer for new applications, rather than merely enhancing existing ones. This strategic pivot emphasizes the core role of AI in delivering fundamental value.\n*   **Advancement in Multimodal AI:** A major trend is the increasing capability of AI models to seamlessly process and generate content across multiple modalities including text, images, audio, and video. This enhances user experiences and unlocks new avenues for content creation and interaction.\n*   **Sophisticated Real-Time AI Agent Interaction:** AI agents are achieving sophisticated real-time interaction capabilities, including understanding spoken language and generating audio content spontaneously. This reduces reliance on traditional prompt engineering for certain tasks, making interactions more natural and efficient.\n*   **Acceleration of AI Agent Development and Integration:** The development and deployment of AI agents designed for autonomous tasks are accelerating. These agents are increasingly integrated directly into enterprise workflows. Their ability to leverage enterprise data and internal processes suggests they may become more dominant than approaches like Retrieval-Augmented Generation (RAG) in specific applications by delivering more accurate and contextually relevant outcomes.\n*   **Rise of Hyper-Personalization:** Generative AI is driving significant impact through hyper-personalization. By analyzing detailed user data and preferences, AI can tailor experiences across diverse sectors. Examples include generating unique product descriptions and enabling virtual try-ons in e-commerce, and developing highly individualized treatment plans in healthcare.\n\n**3. Adoption and Investment**\n\nAdoption and investment in Generative AI solutions are widespread across numerous industries in 2025. Businesses are actively deploying AI for a variety of tasks, moving beyond simple content generation. These applications include:\n\n*   General content creation.\n*   Marketing automation and dynamic content generation.\n*   Customer service automation.\n*   Strategic decision support.\n*   Scientific research and development.\n\nNotable industry-specific applications include:\n\n*   **Healthcare:** Accelerating drug discovery through molecular simulation and generating synthetic patient data for research and training.\n*   **Marketing and Media:** Creating dynamic and personalized content experiences.\n\nThis broad deployment across critical business functions underscores the perceived value and potential return on investment in Generative AI technologies.\n\n**4. Persistent Challenges**\n\nDespite rapid progress and widespread adoption, several significant challenges continue to confront the development and implementation of Generative AI solutions:\n\n*   **Data Sourcing and Bias Mitigation:** Ensuring access to diverse, high-quality data for training remains challenging. Furthermore, mitigating bias within AI models to ensure fairness, equity, and trustworthiness is a critical and ongoing technical and ethical hurdle.\n*   **Integration with Existing Systems:** Integrating sophisticated Generative AI models and applications with legacy or existing enterprise IT infrastructure can be complex and requires significant technical effort.\n*   **Scalability:** Scaling Generative AI solutions to handle increasing workloads, user demands, and data volumes efficiently remains a technical challenge.\n*   **Data Security:** Protecting sensitive data used in training and processing, for both companies and customers, is a major concern requiring robust security measures.\n*   **Intellectual Property (IP) Concerns:** Debates continue regarding intellectual property rights. Creators raise issues about the use of their copyrighted data in training large models and the potential for human creators to be displaced by AI-generated content.\n*   **Skilled Workforce:** There is a recognized need for a sufficiently skilled workforce capable of developing, deploying, managing, and maintaining complex Generative AI technologies effectively.\n\n**5. Ethical Considerations**\n\nEthical considerations surrounding Generative AI are receiving intense and renewed focus in 2025. Key areas of concern include:\n\n*   **Countering Bias:** Actively working to identify and eliminate biases within models and their outputs.\n*   **Increasing Transparency:** Improving understanding of how AI models arrive at their outputs (\"explainable AI\").\n*   **Building Trust:** Fostering user and societal trust in AI systems and their capabilities.\n\nCompanies are exploring various techniques to address these concerns, such as training models on more heterogeneous and representative datasets and implementing frameworks for \"explainable AI\" to provide insight into decision-making processes.\n\n**6. Sustainability Concerns**\n\nAs Generative AI models grow in size and complexity, their significant energy requirements bring sustainability to the forefront as a pressing concern. Efforts are being directed towards making AI more energy-efficient through:\n\n*   Improving algorithms to reduce computational load.\n*   Developing more energy-efficient hardware.\n*   Implementing techniques like model pruning to reduce model size and complexity.\n*   Utilizing specialized energy-efficient chips.\n*   Increasing adoption of carbon-neutral data centers for hosting AI infrastructure.\n\n**7. Emerging Trends**\n\nBeyond the core advancements, several emerging trends indicate the future direction of Generative AI:\n\n*   **Generative User Interfaces:** The rise of user interfaces that dynamically adapt and personalize based on real-time user interactions.\n*   **Deeper Hardware Integration:** Increasing integration of AI applications directly with hardware, exemplified by the emergence of \"AI smartphones\" and \"AI PCs\" with dedicated processing capabilities.\n*   **Open-Source Community Contributions:** The open-source AI community continues to be a significant driver of innovation, with open models becoming more popular and showing continuous improvement in performance.\n\n**8. Adoption vs. Reality**\n\nWhile Generative AI adoption is widespread, a recognized gap exists between the initial excitement (\"hype\") and the reality of achieving full, seamless integration into core business operations for many organizations. However, businesses are moving past the experimental phase and are learning where Generative AI truly adds demonstrable value. This understanding is leading towards a more realistic, strategic, and sustainable integration of these technologies focused on specific use cases that deliver tangible benefits.\n\n**9. Conclusion**\n\nThe current state of Generative AI in 2025 is characterized by dynamic growth, increasing sophistication, and a broadening range of applications across nearly all sectors. The shift towards AI-first design, coupled with advancements in multimodal capabilities and autonomous agents, signals a maturing technology. However, this expansion is accompanied by significant technical challenges related to data, integration, and scalability, as well as critical ethical and societal issues concerning bias, security, intellectual property, and sustainability. As businesses navigate these complexities, they are moving towards a more realistic and sustainable integration model, focusing on proven value delivery. Generative AI remains a powerful, transformative force, poised for further evolution while requiring careful management of its associated challenges.\n\n---\n\n**Summary of Changes Made:**\n\n*   Minor refinements to phrasing for flow and conciseness in various sections.\n*   Ensured consistent use of terminology (\"Generative AI\").\n*   Slightly reworded sentence structures for better readability (e.g., in the Executive Summary and Introduction).\n*   No significant structural changes were needed as the original report was well-organized.\n*   Proofread for grammar and spelling errors.\n\nThe report was already in good shape. The edits were minimal and focused on slight improvements to prose and clarity."
          },
          "metadata": {}
        }
      ],
      "source": [
        "topic = \"Write about the current state of generative ai\"\n",
        "output = await run_agent(sequential_runner, USER_ID, SESSION_ID, topic)\n",
        "report = output['EditorAgent']"
      ]
    },
    {
      "cell_type": "markdown",
      "id": "09d2a303-ad0e-4059-b9d1-e504b61317da",
      "metadata": {
        "id": "09d2a303-ad0e-4059-b9d1-e504b61317da"
      },
      "source": [
        "## Parallel Agents\n",
        "\n",
        "Sometimes, running agents in parallel is desirable, particularly for tasks like translation. The Agent Developer Kit supports such parallel orchestration. In this session, you will create a parallel pipeline designed to translate a report into several languages simultaneously."
      ]
    },
    {
      "cell_type": "code",
      "execution_count": 20,
      "id": "15f5e192-8bc1-4cbc-b716-ffb656da70eb",
      "metadata": {
        "id": "15f5e192-8bc1-4cbc-b716-ffb656da70eb"
      },
      "outputs": [],
      "source": [
        "# Define variables\n",
        "APP_NAME = \"parallel_app\"\n",
        "USER_ID = \"parallel_user\"\n",
        "SESSION_ID = \"parallel_session\""
      ]
    },
    {
      "cell_type": "markdown",
      "id": "H6bWVNn9l0OT",
      "metadata": {
        "id": "H6bWVNn9l0OT"
      },
      "source": [
        "#### Initialize the agents and pipeline"
      ]
    },
    {
      "cell_type": "code",
      "execution_count": 21,
      "id": "edbe5a33-25df-4513-99ae-ebd6a87bce21",
      "metadata": {
        "id": "edbe5a33-25df-4513-99ae-ebd6a87bce21"
      },
      "outputs": [],
      "source": [
        "# Define respective agents and pipeline\n",
        "bahasa_translator = LlmAgent(\n",
        "    name=\"BahasaAgent\",\n",
        "    model=GEMINI_MODEL_NAME,\n",
        "    instruction=\"Your task is to translate the given report into Bahasa lanaguage\",\n",
        "    description=\"Translate a given report to Bahasa\",\n",
        "    output_key=\"bahasa_version\"\n",
        ")\n",
        "\n",
        "thai_translator = LlmAgent(\n",
        "    name=\"ThaiAgent\",\n",
        "    model=GEMINI_MODEL_NAME,\n",
        "    instruction=\"Your task is to translate the given report into Thai lanaguage\",\n",
        "    description=\"Translate a given report to Thai\",\n",
        "    output_key=\"thai_version\"\n",
        ")\n",
        "\n",
        "vietnamese_translator = LlmAgent(\n",
        "    name=\"VietnameseAgent\",\n",
        "    model=GEMINI_MODEL_NAME,\n",
        "    instruction=\"Your task is to translate the given report into Vietnamese lanaguage\",\n",
        "    description=\"Translate a given report to Vietnamese\",\n",
        "    output_key=\"vietnam_version\"\n",
        ")\n",
        "\n",
        "Arab_translator = LlmAgent(\n",
        "    name=\"ArabAgent\",\n",
        "    model=GEMINI_MODEL_NAME,\n",
        "    instruction=\"Your task is to translate the given report into Arabic lanaguage\",\n",
        "    description=\"Translate a given report to Arabic\",\n",
        "    output_key=\"arabic_version\"\n",
        ")\n",
        "\n",
        "parallel_pipeline = ParallelAgent(\n",
        "    name=\"TranslationPipelineAgent\",\n",
        "    sub_agents=[bahasa_translator, thai_translator, vietnamese_translator, Arab_translator],\n",
        "    description=\"Runs multiple tranlsation agents in parallel to translate the report.\",\n",
        ")"
      ]
    },
    {
      "cell_type": "markdown",
      "id": "tqgYTBQAl6BX",
      "metadata": {
        "id": "tqgYTBQAl6BX"
      },
      "source": [
        "#### Initialize Session & Runner"
      ]
    },
    {
      "cell_type": "code",
      "execution_count": 22,
      "id": "84237312-e2b5-4729-9630-96f70305f479",
      "metadata": {
        "id": "84237312-e2b5-4729-9630-96f70305f479"
      },
      "outputs": [],
      "source": [
        "# Initialize Session\n",
        "session_service = InMemorySessionService()\n",
        "\n",
        "session = await session_service.create_session(\n",
        "    app_name=APP_NAME,\n",
        "    user_id=USER_ID,\n",
        "    session_id=SESSION_ID\n",
        ")\n",
        "\n",
        "# Initialize Runner\n",
        "parallel_runner = Runner(\n",
        "    agent=parallel_pipeline,\n",
        "    app_name=APP_NAME,\n",
        "    session_service=session_service,\n",
        ")"
      ]
    },
    {
      "cell_type": "code",
      "execution_count": 23,
      "id": "v4lTRdgxmWvN",
      "metadata": {
        "colab": {
          "base_uri": "https://localhost:8080/",
          "height": 1000
        },
        "id": "v4lTRdgxmWvN",
        "outputId": "b539e47b-b20f-4b91-8d58-338df797c7b3"
      },
      "outputs": [
        {
          "output_type": "display_data",
          "data": {
            "text/plain": [
              "<IPython.core.display.Markdown object>"
            ],
            "text/markdown": "## BahasaAgent"
          },
          "metadata": {}
        },
        {
          "output_type": "display_data",
          "data": {
            "text/plain": [
              "<IPython.core.display.Markdown object>"
            ],
            "text/markdown": "Tentu, berikut adalah terjemahan laporan tersebut ke dalam Bahasa Indonesia:\n\n**Laporan Komprehensif tentang Keadaan Terkini AI Generatif di Tahun 2025**\n\n**Ringkasan Eksekutif:**\n\nPada tahun 2025, AI Generatif berdiri sebagai teknologi transformatif, yang berkembang pesat dari fitur tambahan menjadi komponen integral desain aplikasi, mendorong munculnya solusi \"AI-first\". Kemajuan utama meliputi kematangan AI multimodal, interaksi agen AI real-time yang canggih, dan percepatan integrasi agen otonom ke dalam alur kerja perusahaan. Hiper-personalisasi secara signifikan berdampak pada berbagai sektor. Adopsi dan investasi tersebar luas di berbagai industri untuk beragam aplikasi. Bidang ini menghadapi tantangan signifikan terkait data, bias, integrasi, skalabilitas, keamanan, dan kekayaan intelektual. Bersamaan dengan itu, pertimbangan etis mengenai bias, transparansi, dan kepercayaan, di samping isu keberlanjutan terkait konsumsi energi, semakin mendapat perhatian. Tren yang muncul meliputi antarmuka pengguna generatif dan integrasi perangkat keras yang lebih dalam. Meskipun minat meluas, ada kesenjangan antara hype awal dan integrasi penuh ke dalam inti bisnis, dengan organisasi berfokus pada identifikasi dan implementasi aplikasi yang realistis dan bernilai tambah sambil menangani tantangan teknis, etis, dan sosial yang kompleks.\n\n**1. Pendahuluan**\n\nAI Generatif, yang didefinisikan oleh kapasitasnya untuk menciptakan konten baru, sedang mengalami periode pertumbuhan dinamis dan peningkatan kecanggihan pada tahun 2025. Pengaruhnya meluas di seluruh teknologi dan bisnis, bergerak melampaui aplikasi awalnya sebagai pengaya. Pergeseran ini menandakan perubahan fundamental dalam cara aplikasi dirancang, mengarah pada kebangkitan pendekatan \"AI-first\" di mana kemampuan generatif menjadi pusat arsitektur dan fungsionalitas sistem.\n\n**2. Kemajuan dan Tren Utama**\n\nBeberapa tren signifikan membentuk lanskap AI Generatif pada tahun 2025:\n\n*   **Pergeseran ke Aplikasi AI-First:** AI Generatif semakin menjadi lapisan dasar untuk aplikasi baru, bukan hanya meningkatkan yang sudah ada. Pergeseran strategis ini menekankan peran inti AI dalam memberikan nilai fundamental.\n*   **Kemajuan dalam AI Multimodal:** Tren utama adalah peningkatan kemampuan model AI untuk memproses dan menghasilkan konten secara mulus di berbagai modalitas termasuk teks, gambar, audio, dan video. Ini meningkatkan pengalaman pengguna dan membuka jalan baru untuk pembuatan dan interaksi konten.\n*   **Interaksi Agen AI Real-Time yang Canggih:** Agen AI mencapai kemampuan interaksi real-time yang canggih, termasuk memahami bahasa lisan dan menghasilkan konten audio secara spontan. Ini mengurangi ketergantungan pada rekayasa prompt tradisional untuk tugas-tugas tertentu, membuat interaksi lebih alami dan efisien.\n*   **Percepatan Pengembangan dan Integrasi Agen AI:** Pengembangan dan penerapan agen AI yang dirancang untuk tugas-tugas otonom semakin cepat. Agen-agen ini semakin terintegrasi langsung ke dalam alur kerja perusahaan. Kemampuan mereka untuk memanfaatkan data perusahaan dan proses internal menunjukkan bahwa mereka mungkin menjadi lebih dominan daripada pendekatan seperti Retrieval-Augmented Generation (RAG) dalam aplikasi spesifik dengan memberikan hasil yang lebih akurat dan relevan secara kontekstual.\n*   **Kebangkitan Hiper-Personalisasi:** AI Generatif mendorong dampak signifikan melalui hiper-personalisasi. Dengan menganalisis data pengguna dan preferensi yang terperinci, AI dapat menyesuaikan pengalaman di berbagai sektor. Contohnya termasuk menghasilkan deskripsi produk yang unik dan memungkinkan uji coba virtual di e-commerce, serta mengembangkan rencana perawatan yang sangat individual di layanan kesehatan.\n\n**3. Adopsi dan Investasi**\n\nAdopsi dan investasi dalam solusi AI Generatif tersebar luas di berbagai industri pada tahun 2025. Bisnis secara aktif menerapkan AI untuk berbagai tugas, bergerak melampaui pembuatan konten sederhana. Aplikasi ini meliputi:\n\n*   Pembuatan konten umum.\n*   Otomatisasi pemasaran dan pembuatan konten dinamis.\n*   Otomatisasi layanan pelanggan.\n*   Dukungan keputusan strategis.\n*   Penelitian dan pengembangan ilmiah.\n\nAplikasi spesifik industri yang menonjol meliputi:\n\n*   **Layanan Kesehatan:** Mempercepat penemuan obat melalui simulasi molekuler dan menghasilkan data pasien sintetis untuk penelitian dan pelatihan.\n*   **Pemasaran dan Media:** Membuat pengalaman konten yang dinamis dan personalisasi.\n\nPenerapan yang luas di seluruh fungsi bisnis kritis ini menggarisbawahi nilai yang dipersepsikan dan potensi pengembalian investasi dalam teknologi AI Generatif.\n\n**4. Tantangan yang Terus Ada**\n\nMeskipun kemajuan pesat dan adopsi luas, beberapa tantangan signifikan terus dihadapi pengembangan dan implementasi solusi AI Generatif:\n\n*   **Sumber Data dan Mitigasi Bias:** Memastikan akses ke data yang beragam dan berkualitas tinggi untuk pelatihan tetap menantang. Selain itu, mitigasi bias dalam model AI untuk memastikan keadilan, kesetaraan, dan kepercayaan adalah hambatan teknis dan etis yang kritis dan berkelanjutan.\n*   **Integrasi dengan Sistem yang Ada:** Mengintegrasikan model dan aplikasi AI Generatif yang canggih dengan infrastruktur TI perusahaan yang lama (legacy) atau yang sudah ada bisa menjadi kompleks dan memerlukan upaya teknis yang signifikan.\n*   **Skalabilitas:** Menskalakan solusi AI Generatif untuk menangani beban kerja yang meningkat, permintaan pengguna, dan volume data secara efisien tetap menjadi tantangan teknis.\n*   **Keamanan Data:** Melindungi data sensitif yang digunakan dalam pelatihan dan pemrosesan, baik untuk perusahaan maupun pelanggan, adalah perhatian utama yang memerlukan langkah-langkah keamanan yang kuat.\n*   **Kekhawatiran Kekayaan Intelektual (KI):** Perdebatan terus berlanjut mengenai hak kekayaan intelektual. Para kreator mengangkat isu penggunaan data berhak cipta mereka dalam pelatihan model besar dan potensi kreator manusia digantikan oleh konten yang dihasilkan AI.\n*   **Tenaga Kerja Terampil:** Ada kebutuhan yang diakui untuk tenaga kerja yang cukup terampil yang mampu mengembangkan, menerapkan, mengelola, dan memelihara teknologi AI Generatif yang kompleks secara efektif.\n\n**5. Pertimbangan Etis**\n\nPertimbangan etis seputar AI Generatif menerima perhatian yang intens dan baru pada tahun 2025. Area perhatian utama meliputi:\n\n*   **Melawan Bias:** Secara aktif berupaya mengidentifikasi dan menghilangkan bias dalam model dan outputnya.\n*   **Meningkatkan Transparansi:** Meningkatkan pemahaman tentang bagaimana model AI sampai pada outputnya (\"explainable AI\").\n*   **Membangun Kepercayaan:** Menumbuhkan kepercayaan pengguna dan masyarakat terhadap sistem AI dan kemampuannya.\n\nPerusahaan sedang mengeksplorasi berbagai teknik untuk mengatasi masalah ini, seperti melatih model pada dataset yang lebih heterogen dan representatif serta mengimplementasikan kerangka kerja untuk \"explainable AI\" untuk memberikan wawasan tentang proses pengambilan keputusan.\n\n**6. Kekhawatiran Keberlanjutan**\n\nSeiring dengan pertumbuhan ukuran dan kompleksitas model AI Generatif, kebutuhan energi yang signifikan mereka membawa keberlanjutan ke garis depan sebagai kekhawatiran yang mendesak. Upaya diarahkan untuk membuat AI lebih hemat energi melalui:\n\n*   Memperbaiki algoritma untuk mengurangi beban komputasi.\n*   Mengembangkan perangkat keras yang lebih hemat energi.\n*   Mengimplementasikan teknik seperti model pruning untuk mengurangi ukuran dan kompleksitas model.\n*   Memanfaatkan chip hemat energi khusus.\n*   Meningkatkan adopsi pusat data netral karbon untuk menampung infrastruktur AI.\n\n**7. Tren yang Muncul**\n\nDi luar kemajuan inti, beberapa tren yang muncul menunjukkan arah masa depan AI Generatif:\n\n*   **Antarmuka Pengguna Generatif:** Kebangkitan antarmuka pengguna yang secara dinamis beradaptasi dan personalisasi berdasarkan interaksi pengguna real-time.\n*   **Integrasi Perangkat Keras yang Lebih Dalam:** Peningkatan integrasi aplikasi AI langsung dengan perangkat keras, dicontohkan oleh munculnya \"ponsel pintar AI\" dan \"PC AI\" dengan kemampuan pemrosesan khusus.\n*   **Kontribusi Komunitas Sumber Terbuka:** Komunitas AI sumber terbuka terus menjadi penggerak inovasi yang signifikan, dengan model sumber terbuka menjadi lebih populer dan menunjukkan peningkatan kinerja yang berkelanjutan.\n\n**8. Adopsi vs Realitas**\n\nMeskipun adopsi AI Generatif tersebar luas, ada kesenjangan yang diakui antara kegembiraan awal (\"hype\") dan realitas pencapaian integrasi penuh dan mulus ke dalam operasi inti bisnis bagi banyak organisasi. Namun, bisnis bergerak melampaui fase eksperimental dan belajar di mana AI Generatif benar-benar memberikan nilai yang dapat ditunjukkan. Pemahaman ini mengarah pada integrasi teknologi ini yang lebih realistis, strategis, dan berkelanjutan yang berfokus pada kasus penggunaan spesifik yang memberikan manfaat nyata.\n\n**9. Kesimpulan**\n\nKeadaan terkini AI Generatif pada tahun 2025 ditandai oleh pertumbuhan dinamis, peningkatan kecanggihan, dan jangkauan aplikasi yang meluas di hampir semua sektor. Pergeseran menuju desain AI-first, ditambah dengan kemajuan dalam kemampuan multimodal dan agen otonom, menandakan teknologi yang matang. Namun, ekspansi ini disertai oleh tantangan teknis signifikan terkait data, integrasi, dan skalabilitas, serta masalah etis dan sosial yang kritis mengenai bias, keamanan, kekayaan intelektual, dan keberlanjutan. Saat bisnis menavigasi kompleksitas ini, mereka bergerak menuju model integrasi yang lebih realistis dan berkelanjutan, berfokus pada penyampaian nilai yang terbukti. AI Generatif tetap menjadi kekuatan transformatif yang kuat, siap untuk evolusi lebih lanjut sambil memerlukan pengelolaan yang cermat terhadap tantangan terkaitnya."
          },
          "metadata": {}
        },
        {
          "output_type": "display_data",
          "data": {
            "text/plain": [
              "<IPython.core.display.Markdown object>"
            ],
            "text/markdown": "## VietnameseAgent"
          },
          "metadata": {}
        },
        {
          "output_type": "display_data",
          "data": {
            "text/plain": [
              "<IPython.core.display.Markdown object>"
            ],
            "text/markdown": "Okay, here is the translation of the report into Vietnamese.\n\n---\n\n**Báo cáo Toàn diện về Tình hình Hiện tại của AI Tạo Sinh vào năm 2025**\n\n**Tóm tắt điều hành:**\n\nNăm 2025, AI Tạo Sinh (Generative AI) khẳng định vị thế là một công nghệ mang tính chuyển đổi, nhanh chóng phát triển từ một tính năng bổ sung trở thành một thành phần không thể thiếu trong thiết kế ứng dụng, thúc đẩy sự xuất hiện của các giải pháp \"ưu tiên AI\" (AI-first). Các tiến bộ chính bao gồm sự trưởng thành của AI đa phương thức (multimodal AI), tương tác tác nhân AI thời gian thực tinh vi, và sự tích hợp ngày càng nhanh của các tác nhân tự hành vào quy trình làm việc của doanh nghiệp. Siêu cá nhân hóa (Hyper-personalization) đang tác động đáng kể đến nhiều lĩnh vực khác nhau. Việc áp dụng và đầu tư đang diễn ra rộng rãi trên khắp các ngành công nghiệp cho nhiều ứng dụng đa dạng. Lĩnh vực này đang đối mặt với những thách thức đáng kể liên quan đến dữ liệu, thiên vị, tích hợp, khả năng mở rộng, bảo mật và sở hữu trí tuệ. Đồng thời, các cân nhắc về đạo đức liên quan đến thiên vị, minh bạch và lòng tin, cùng với các mối quan ngại về tính bền vững liên quan đến tiêu thụ năng lượng, đang nhận được sự chú ý ngày càng tăng. Các xu hướng mới nổi bao gồm giao diện người dùng tạo sinh (generative user interfaces) và tích hợp phần cứng sâu hơn. Bất chấp sự quan tâm rộng rãi, vẫn tồn tại một khoảng cách giữa sự cường điệu ban đầu và việc tích hợp hoàn toàn vào hoạt động kinh doanh cốt lõi, khi các tổ chức đang tập trung vào việc xác định và triển khai các ứng dụng thực tế, gia tăng giá trị, đồng thời giải quyết các thách thức phức tạp về kỹ thuật, đạo đức và xã hội.\n\n**1. Giới thiệu**\n\nAI Tạo Sinh, được định nghĩa bởi khả năng tạo ra nội dung mới, đang trải qua một giai đoạn tăng trưởng năng động và ngày càng tinh vi vào năm 2025. Ảnh hưởng của nó đang mở rộng trên khắp lĩnh vực công nghệ và kinh doanh, vượt ra ngoài các ứng dụng ban đầu chỉ là một phần bổ trợ. Sự thay đổi này biểu thị một sự thay đổi cơ bản trong cách thiết kế ứng dụng, dẫn đến sự trỗi dậy của các phương pháp \"ưu tiên AI\", nơi khả năng tạo sinh trở thành trung tâm của kiến trúc và chức năng của một hệ thống.\n\n**2. Các tiến bộ và xu hướng chính**\n\nMột số xu hướng quan trọng đang định hình bức tranh về AI Tạo Sinh vào năm 2025:\n\n*   **Chuyển đổi sang Ứng dụng Ưu tiên AI (AI-First):** AI Tạo Sinh ngày càng trở thành lớp nền tảng cho các ứng dụng mới, thay vì chỉ đơn thuần là nâng cao các ứng dụng hiện có. Sự thay đổi chiến lược này nhấn mạnh vai trò cốt lõi của AI trong việc mang lại giá trị nền tảng.\n*   **Tiến bộ trong AI Đa Phương Thức (Multimodal AI):** Một xu hướng lớn là khả năng ngày càng tăng của các mô hình AI trong việc xử lý và tạo nội dung liền mạch trên nhiều phương thức bao gồm văn bản, hình ảnh, âm thanh và video. Điều này nâng cao trải nghiệm người dùng và mở khóa những con đường mới cho việc sáng tạo và tương tác nội dung.\n*   **Tương tác Tác nhân AI Thời gian thực Tinh vi:** Các tác nhân AI đang đạt được khả năng tương tác thời gian thực tinh vi, bao gồm hiểu ngôn ngữ nói và tạo nội dung âm thanh một cách tự nhiên. Điều này làm giảm sự phụ thuộc vào kỹ thuật nhắc lệnh (prompt engineering) truyền thống đối với một số tác vụ, giúp tương tác trở nên tự nhiên và hiệu quả hơn.\n*   **Tăng tốc Phát triển và Tích hợp Tác nhân AI:** Việc phát triển và triển khai các tác nhân AI được thiết kế cho các tác vụ tự hành đang tăng tốc. Các tác nhân này ngày càng được tích hợp trực tiếp vào quy trình làm việc của doanh nghiệp. Khả năng tận dụng dữ liệu doanh nghiệp và các quy trình nội bộ cho thấy chúng có thể trở nên chiếm ưu thế hơn các phương pháp như Retrieval-Augmented Generation (RAG) trong các ứng dụng cụ thể bằng cách mang lại kết quả chính xác và phù hợp ngữ cảnh hơn.\n*   **Sự trỗi dậy của Siêu Cá nhân hóa (Hyper-Personalization):** AI Tạo Sinh đang thúc đẩy tác động đáng kể thông qua siêu cá nhân hóa. Bằng cách phân tích dữ liệu người dùng chi tiết và sở thích, AI có thể điều chỉnh trải nghiệm trên các lĩnh vực đa dạng. Các ví dụ bao gồm tạo mô tả sản phẩm độc đáo và cho phép thử đồ ảo trong thương mại điện tử, cũng như phát triển các kế hoạch điều trị cá nhân hóa cao trong chăm sóc sức khỏe.\n\n**3. Áp dụng và Đầu tư**\n\nViệc áp dụng và đầu tư vào các giải pháp AI Tạo Sinh đang diễn ra rộng rãi trên nhiều ngành công nghiệp vào năm 2025. Các doanh nghiệp đang tích cực triển khai AI cho nhiều tác vụ khác nhau, vượt ra ngoài việc tạo nội dung đơn giản. Các ứng dụng này bao gồm:\n\n*   Tạo nội dung chung.\n*   Tự động hóa marketing và tạo nội dung động.\n*   Tự động hóa dịch vụ khách hàng.\n*   Hỗ trợ ra quyết định chiến lược.\n*   Nghiên cứu và phát triển khoa học.\n\nCác ứng dụng đáng chú ý theo ngành cụ thể bao gồm:\n\n*   **Chăm sóc sức khỏe:** Tăng tốc khám phá thuốc thông qua mô phỏng phân tử và tạo dữ liệu bệnh nhân tổng hợp cho nghiên cứu và đào tạo.\n*   **Marketing và Truyền thông:** Tạo trải nghiệm nội dung động và cá nhân hóa.\n\nViệc triển khai rộng rãi này trên các chức năng kinh doanh quan trọng nhấn mạnh giá trị nhận thức và tiềm năng lợi tức đầu tư vào các công nghệ AI Tạo Sinh.\n\n**4. Các thách thức dai dẳng**\n\nBất chấp những tiến bộ nhanh chóng và việc áp dụng rộng rãi, một số thách thức đáng kể vẫn tiếp tục đối mặt với việc phát triển và triển khai các giải pháp AI Tạo Sinh:\n\n*   **Nguồn dữ liệu và Giảm thiểu Thiên vị:** Đảm bảo quyền truy cập vào dữ liệu đa dạng, chất lượng cao để huấn luyện vẫn là một thách thức. Hơn nữa, việc giảm thiểu thiên vị trong các mô hình AI để đảm bảo tính công bằng, bình đẳng và đáng tin cậy là một rào cản kỹ thuật và đạo đức quan trọng và liên tục.\n*   **Tích hợp với Hệ thống Hiện có:** Tích hợp các mô hình và ứng dụng AI Tạo Sinh tinh vi với cơ sở hạ tầng CNTT kế thừa (legacy) hoặc hiện có của doanh nghiệp có thể phức tạp và đòi hỏi nỗ lực kỹ thuật đáng kể.\n*   **Khả năng mở rộng:** Mở rộng quy mô các giải pháp AI Tạo Sinh để xử lý khối lượng công việc, nhu cầu người dùng và khối lượng dữ liệu ngày càng tăng một cách hiệu quả vẫn là một thách thức kỹ thuật.\n*   **Bảo mật dữ liệu:** Bảo vệ dữ liệu nhạy cảm được sử dụng trong huấn luyện và xử lý, cho cả công ty và khách hàng, là một mối quan ngại lớn đòi hỏi các biện pháp bảo mật mạnh mẽ.\n*   **Các mối quan ngại về Sở hữu Trí tuệ (STTT):** Các cuộc tranh luận tiếp tục diễn ra liên quan đến quyền sở hữu trí tuệ. Các nhà sáng tạo nêu vấn đề về việc sử dụng dữ liệu có bản quyền của họ trong việc huấn luyện các mô hình lớn và khả năng các nhà sáng tạo con người bị thay thế bởi nội dung do AI tạo ra.\n*   **Lực lượng lao động lành nghề:** Có một nhu cầu được công nhận về một lực lượng lao động đủ kỹ năng có khả năng phát triển, triển khai, quản lý và duy trì các công nghệ AI Tạo Sinh phức tạp một cách hiệu quả.\n\n**5. Các cân nhắc về đạo đức**\n\nCác cân nhắc về đạo đức xung quanh AI Tạo Sinh đang nhận được sự chú ý mạnh mẽ và mới mẻ vào năm 2025. Các lĩnh vực quan ngại chính bao gồm:\n\n*   **Chống lại Thiên vị:** Chủ động làm việc để xác định và loại bỏ các thiên vị trong các mô hình và kết quả của chúng.\n*   **Tăng cường Minh bạch:** Cải thiện sự hiểu biết về cách các mô hình AI đưa ra kết quả của chúng (\"AI có khả năng giải thích\" - explainable AI).\n*   **Xây dựng Lòng tin:** Thúc đẩy lòng tin của người dùng và xã hội vào các hệ thống AI và khả năng của chúng.\n\nCác công ty đang khám phá nhiều kỹ thuật khác nhau để giải quyết những mối quan ngại này, chẳng hạn như huấn luyện các mô hình trên các tập dữ liệu đa dạng và đại diện hơn, và triển khai các khuôn khổ cho \"AI có khả năng giải thích\" để cung cấp cái nhìn sâu sắc về các quy trình ra quyết định.\n\n**6. Các mối quan ngại về Tính bền vững**\n\nKhi các mô hình AI Tạo Sinh ngày càng lớn và phức tạp, yêu cầu năng lượng đáng kể của chúng đưa tính bền vững trở thành một mối quan ngại cấp bách. Các nỗ lực đang được hướng tới việc làm cho AI tiết kiệm năng lượng hơn thông qua:\n\n*   Cải thiện thuật toán để giảm tải tính toán.\n*   Phát triển phần cứng tiết kiệm năng lượng hơn.\n*   Triển khai các kỹ thuật như cắt tỉa mô hình (model pruning) để giảm kích thước và độ phức tạp của mô hình.\n*   Sử dụng các chip chuyên dụng tiết kiệm năng lượng.\n*   Tăng cường áp dụng các trung tâm dữ liệu trung hòa carbon để lưu trữ cơ sở hạ tầng AI.\n\n**7. Các xu hướng mới nổi**\n\nNgoài các tiến bộ cốt lõi, một số xu hướng mới nổi cho thấy hướng đi tương lai của AI Tạo Sinh:\n\n*   **Giao diện Người dùng Tạo Sinh (Generative User Interfaces):** Sự trỗi dậy của các giao diện người dùng tự động thích ứng và cá nhân hóa dựa trên tương tác thời gian thực của người dùng.\n*   **Tích hợp Phần cứng Sâu hơn:** Tăng cường tích hợp các ứng dụng AI trực tiếp với phần cứng, được minh chứng bằng sự xuất hiện của \"điện thoại thông minh AI\" và \"PC AI\" với khả năng xử lý chuyên dụng.\n*   **Đóng góp từ Cộng đồng Mã nguồn mở:** Cộng đồng AI mã nguồn mở tiếp tục là động lực đổi mới quan trọng, với các mô hình mở ngày càng phổ biến và cho thấy sự cải thiện liên tục về hiệu suất.\n\n**8. Áp dụng so với Thực tế**\n\nTrong khi việc áp dụng AI Tạo Sinh đang phổ biến rộng rãi, vẫn tồn tại một khoảng cách được thừa nhận giữa sự phấn khích ban đầu (\"sự cường điệu\") và thực tế đạt được sự tích hợp hoàn toàn, liền mạch vào hoạt động kinh doanh cốt lõi đối với nhiều tổ chức. Tuy nhiên, các doanh nghiệp đang vượt qua giai đoạn thử nghiệm và đang tìm hiểu xem AI Tạo Sinh thực sự mang lại giá trị có thể chứng minh được ở đâu. Sự hiểu biết này đang dẫn đến một sự tích hợp thực tế hơn, chiến lược hơn và bền vững hơn các công nghệ này, tập trung vào các trường hợp sử dụng cụ thể mang lại lợi ích hữu hình.\n\n**9. Kết luận**\n\nTình hình hiện tại của AI Tạo Sinh vào năm 2025 được đặc trưng bởi sự tăng trưởng năng động, ngày càng tinh vi và phạm vi ứng dụng ngày càng mở rộng trên hầu hết các lĩnh vực. Sự chuyển đổi sang thiết kế ưu tiên AI, cùng với các tiến bộ trong khả năng đa phương thức và các tác nhân tự hành, cho thấy một công nghệ đang trưởng thành. Tuy nhiên, sự mở rộng này đi kèm với các thách thức kỹ thuật đáng kể liên quan đến dữ liệu, tích hợp và khả năng mở rộng, cũng như các vấn đề đạo đức và xã hội quan trọng liên quan đến thiên vị, bảo mật, sở hữu trí tuệ và tính bền vững. Khi các doanh nghiệp điều hướng những sự phức tạp này, họ đang hướng tới một mô hình tích hợp thực tế hơn và bền vững hơn, tập trung vào việc mang lại giá trị đã được chứng minh. AI Tạo Sinh vẫn là một lực lượng mạnh mẽ, mang tính chuyển đổi, sẵn sàng cho sự phát triển hơn nữa trong khi đòi hỏi sự quản lý cẩn thận các thách thức liên quan.\n\n---\n\n**Tóm tắt các Thay đổi Đã thực hiện:**\n\n*   Các chỉnh sửa nhỏ về cách diễn đạt để câu văn trôi chảy và súc tích hơn ở nhiều phần.\n*   Đảm bảo sử dụng thuật ngữ nhất quán (\"AI Tạo Sinh\").\n*   Sửa đổi nhẹ cấu trúc câu để dễ đọc hơn (ví dụ: trong Tóm tắt điều hành và Giới thiệu).\n*   Không cần thay đổi cấu trúc đáng kể vì báo cáo gốc đã được tổ chức tốt.\n*   Đọc soát lỗi ngữ pháp và chính tả.\n\nBáo cáo ban đầu đã có cấu trúc tốt. Các chỉnh sửa chỉ ở mức tối thiểu và tập trung vào việc cải thiện nhẹ về văn phong và sự rõ ràng."
          },
          "metadata": {}
        },
        {
          "output_type": "display_data",
          "data": {
            "text/plain": [
              "<IPython.core.display.Markdown object>"
            ],
            "text/markdown": "## ThaiAgent"
          },
          "metadata": {}
        },
        {
          "output_type": "display_data",
          "data": {
            "text/plain": [
              "<IPython.core.display.Markdown object>"
            ],
            "text/markdown": "นี่คือฉบับรายงานที่ผ่านการตรวจสอบคุณภาพและปรับปรุงเล็กน้อยแล้ว:\n\n## รายงานฉบับสมบูรณ์ว่าด้วยสถานะปัจจุบันของปัญญาประดิษฐ์เชิงสร้างสรรค์ในปี 2025\n\n**บทสรุปสำหรับผู้บริหาร:**\n\nในปี 2025 ปัญญาประดิษฐ์เชิงสร้างสรรค์ (Generative AI) ถือเป็นเทคโนโลยีพลิกโฉมที่กำลังพัฒนาอย่างรวดเร็ว จากการเป็นเพียงฟังก์ชันเสริมไปสู่การเป็นส่วนประกอบสำคัญของการออกแบบแอปพลิเคชัน ซึ่งขับเคลื่อนให้เกิดโซลูชันที่ \"AI-first\" ความก้าวหน้าที่สำคัญประกอบด้วย การเติบโตเต็มที่ของ AI แบบหลายโมดอล (multimodal AI) การทำงานร่วมกันแบบเรียลไทม์ที่ซับซ้อนของ AI agent และการผสานรวม AI agent แบบอัตโนมัติเข้ากับกระบวนการทำงานระดับองค์กรที่รวดเร็วยิ่งขึ้น การปรับให้เป็นส่วนตัวขั้นสูง (hyper-personalization) กำลังส่งผลกระทบอย่างมีนัยสำคัญต่อภาคส่วนต่างๆ การนำมาใช้และการลงทุนมีอย่างแพร่หลายในหลายอุตสาหกรรมเพื่อใช้งานในแอปพลิเคชันที่หลากหลาย ขณะเดียวกัน วงการนี้กำลังเผชิญกับความท้าทายที่สำคัญที่เกี่ยวข้องกับข้อมูล อคติ การบูรณาการ ความสามารถในการขยายขนาด ความปลอดภัย และทรัพย์สินทางปัญญา ในเวลาเดียวกัน ข้อพิจารณาด้านจริยธรรมเกี่ยวกับอคติ ความโปร่งใส และความน่าเชื่อถือ ควบคู่ไปกับข้อกังวลด้านความยั่งยืนที่เกี่ยวข้องกับการใช้พลังงาน ก็กำลังได้รับความสนใจเพิ่มขึ้น แนวโน้มที่กำลังเกิดขึ้นรวมถึงส่วนต่อประสานกับผู้ใช้เชิงสร้างสรรค์ (generative user interfaces) และการผสานรวมกับฮาร์ดแวร์ที่ลึกซึ้งยิ่งขึ้น แม้จะมีความสนใจอย่างกว้างขวาง แต่ก็ยังมีช่องว่างระหว่างความตื่นกระแสเริ่มต้นกับการบูรณาการเข้ากับการดำเนินงานหลักของธุรกิจอย่างเต็มรูปแบบ โดยที่องค์กรต่างๆ กำลังมุ่งเน้นไปที่การระบุและการนำแอปพลิเคชันที่สมจริงและเพิ่มมูลค่ามาใช้ พร้อมทั้งจัดการกับความท้าทายที่ซับซ้อนทั้งทางเทคนิค จริยธรรม และสังคม\n\n**1. บทนำ**\n\nปัญญาประดิษฐ์เชิงสร้างสรรค์ (Generative AI) ซึ่งนิยามจากความสามารถในการสร้างเนื้อหาใหม่ๆ กำลังอยู่ในช่วงเวลาของการเติบโตแบบพลวัตและมีความซับซ้อนเพิ่มขึ้นในปี 2025 อิทธิพลของเทคโนโลยีนี้กำลังขยายวงกว้างไปทั่วทั้งวงการเทคโนโลยีและธุรกิจ โดยก้าวข้ามจากแอปพลิเคชันเริ่มต้นที่เป็นเพียงส่วนเสริม การเปลี่ยนแปลงนี้บ่งชี้ถึงการเปลี่ยนแปลงพื้นฐานในวิธีการออกแบบแอปพลิเคชัน ซึ่งนำไปสู่การเกิดขึ้นของแนวทาง \"AI-first\" โดยที่ความสามารถในการสร้างสรรค์ (generative capabilities) เป็นหัวใจหลักของสถาปัตยกรรมและฟังก์ชันการทำงานของระบบ\n\n**2. ความก้าวหน้าและแนวโน้มที่สำคัญ**\n\nแนวโน้มที่สำคัญหลายประการกำลังหล่อหลอมภูมิทัศน์ของปัญญาประดิษฐ์เชิงสร้างสรรค์ในปี 2025:\n\n*   **การปรับเปลี่ยนสู่แอปพลิเคชัน AI-First:** ปัญญาประดิษฐ์เชิงสร้างสรรค์กำลังกลายเป็นพื้นฐานหลักสำหรับแอปพลิเคชันใหม่ๆ มากขึ้น แทนที่จะเพียงแค่เสริมประสิทธิภาพให้กับแอปพลิเคชันที่มีอยู่ การปรับกลยุทธ์ครั้งสำคัญนี้เน้นย้ำถึงบทบาทหลักของ AI ในการส่งมอบมูลค่าพื้นฐาน\n*   **ความก้าวหน้าใน Multimodal AI:** แนวโน้มสำคัญคือความสามารถที่เพิ่มขึ้นของโมเดล AI ในการประมวลผลและสร้างเนื้อหาได้อย่างราบรื่นในรูปแบบ (modalities) ที่หลากหลาย รวมถึงข้อความ รูปภาพ เสียง และวิดีโอ ซึ่งช่วยยกระดับประสบการณ์ผู้ใช้และเปิดโอกาสใหม่ๆ สำหรับการสร้างเนื้อหาและการโต้ตอบ\n*   **การทำงานร่วมกันแบบ Real-Time ที่ซับซ้อนของ AI Agent:** AI Agent กำลังบรรลุความสามารถในการทำงานร่วมกันแบบเรียลไทม์ที่ซับซ้อน รวมถึงการทำความเข้าใจภาษาพูดและการสร้างเนื้อหาเสียงได้ทันที ซึ่งช่วยลดการพึ่งพาการออกแบบพร้อมท์ (prompt engineering) แบบดั้งเดิมสำหรับบางงาน ทำให้การโต้ตอบเป็นธรรมชาติและมีประสิทธิภาพมากขึ้น\n*   **การเร่งตัวของการพัฒนาและการบูรณาการ AI Agent:** การพัฒนาและการนำ AI Agent ที่ออกแบบมาสำหรับงานแบบอัตโนมัติไปใช้งานกำลังเร่งตัวขึ้น AI Agent เหล่านี้กำลังถูกผสานรวมเข้ากับกระบวนการทำงานระดับองค์กรโดยตรง ความสามารถในการใช้ประโยชน์จากข้อมูลองค์กรและกระบวนการภายในบ่งชี้ว่า AI Agent อาจมีบทบาทโดดเด่นกว่าแนวทางเช่น Retrieval-Augmented Generation (RAG) ในแอปพลิเคชันเฉพาะเจาะจง โดยให้ผลลัพธ์ที่แม่นยำและตรงตามบริบทมากขึ้น\n*   **การเพิ่มขึ้นของ Hyper-Personalization:** ปัญญาประดิษฐ์เชิงสร้างสรรค์กำลังขับเคลื่อนผลกระทบที่สำคัญผ่านการปรับให้เป็นส่วนตัวขั้นสูง (hyper-personalization) ด้วยการวิเคราะห์ข้อมูลและพฤติกรรมผู้ใช้โดยละเอียด AI สามารถปรับแต่งประสบการณ์ในภาคส่วนต่างๆ ได้ ตัวอย่างเช่น การสร้างคำอธิบายสินค้าที่ไม่ซ้ำใครและทำให้สามารถทดลองสินค้าเสมือนจริงได้ในอีคอมเมิร์ซ และการพัฒนาแผนการรักษาเฉพาะบุคคลในด้านการดูแลสุขภาพ\n\n**3. การนำมาใช้และการลงทุน**\n\nการนำมาใช้และการลงทุนในโซลูชันปัญญาประดิษฐ์เชิงสร้างสรรค์มีอย่างแพร่หลายในอุตสาหกรรมจำนวนมากในปี 2025 ธุรกิจต่างๆ กำลังนำ AI มาใช้งานอย่างจริงจังสำหรับงานที่หลากหลาย นอกเหนือจากการสร้างเนื้อหาง่ายๆ แอปพลิเคชันเหล่านี้รวมถึง:\n\n*   การสร้างเนื้อหาทั่วไป\n*   ระบบอัตโนมัติทางการตลาดและการสร้างเนื้อหาแบบไดนามิก\n*   ระบบอัตโนมัติสำหรับบริการลูกค้า\n*   การสนับสนุนการตัดสินใจเชิงกลยุทธ์\n*   การวิจัยและพัฒนาทางวิทยาศาสตร์\n\nแอปพลิเคชันเฉพาะอุตสาหกรรมที่โดดเด่น ได้แก่:\n\n*   **การดูแลสุขภาพ:** เร่งการค้นพบยาผ่านการจำลองโมเลกุลและการสร้างข้อมูลผู้ป่วยสังเคราะห์เพื่อการวิจัยและการฝึกอบรม\n*   **การตลาดและสื่อ:** สร้างประสบการณ์เนื้อหาแบบไดนามิกและเป็นส่วนตัว\n\nการนำไปใช้อย่างกว้างขวางในหน้าที่ทางธุรกิจที่สำคัญเหล่านี้ ตอกย้ำถึงมูลค่าที่รับรู้และผลตอบแทนจากการลงทุนที่อาจเกิดขึ้นในเทคโนโลยีปัญญาประดิษฐ์เชิงสร้างสรรค์\n\n**4. ความท้าทายที่ยังคงอยู่**\n\nแม้จะมีความก้าวหน้าอย่างรวดเร็วและการนำมาใช้กันอย่างแพร่หลาย แต่ความท้าทายที่สำคัญหลายประการยังคงเป็นอุปสรรคต่อการพัฒนาและการนำโซลูชันปัญญาประดิษฐ์เชิงสร้างสรรค์ไปใช้งาน:\n\n*   **การจัดหาข้อมูลและการบรรเทาอคติ:** การเข้าถึงข้อมูลที่หลากหลายและมีคุณภาพสูงสำหรับการฝึกฝนโมเดลยังคงเป็นเรื่องท้าทาย นอกจากนี้ การลดอคติภายในโมเดล AI เพื่อให้มั่นใจถึงความยุติธรรม ความเท่าเทียม และความน่าเชื่อถือ เป็นอุปสรรคทางเทคนิคและจริยธรรมที่สำคัญและต่อเนื่อง\n*   **การบูรณาการกับระบบที่มีอยู่เดิม:** การบูรณาการโมเดลและแอปพลิเคชันปัญญาประดิษฐ์เชิงสร้างสรรค์ที่ซับซ้อนเข้ากับโครงสร้างพื้นฐานด้านไอทีขององค์กรแบบดั้งเดิมหรือที่มีอยู่เดิมอาจซับซ้อนและต้องใช้ความพยายามทางเทคนิคอย่างมาก\n*   **ความสามารถในการขยายขนาด (Scalability):** การขยายขนาดโซลูชันปัญญาประดิษฐ์เชิงสร้างสรรค์เพื่อรองรับปริมาณงาน ความต้องการของผู้ใช้ และปริมาณข้อมูลที่เพิ่มขึ้นอย่างมีประสิทธิภาพยังคงเป็นความท้าทายทางเทคนิค\n*   **ความปลอดภัยของข้อมูล:** การปกป้องข้อมูลที่ละเอียดอ่อนที่ใช้ในการฝึกฝนและประมวลผล ทั้งสำหรับบริษัทและลูกค้า เป็นข้อกังวลหลักที่ต้องใช้มาตรการความปลอดภัยที่แข็งแกร่ง\n*   **ข้อกังวลเกี่ยวกับทรัพย์สินทางปัญญา (IP):** การอภิปรายเกี่ยวกับสิทธิ์ในทรัพย์สินทางปัญญายังคงดำเนินต่อไป ผู้สร้างยกประเด็นเกี่ยวกับการใช้ข้อมูลที่มีลิขสิทธิ์ของตนในการฝึกฝนโมเดลขนาดใหญ่ และความเป็นไปได้ที่ผู้สร้างที่เป็นมนุษย์จะถูกแทนที่ด้วยเนื้อหาที่สร้างโดย AI\n*   **บุคลากรที่มีทักษะ:** เป็นที่ยอมรับว่ามีความต้องการบุคลากรที่มีทักษะเพียงพอ ซึ่งมีความสามารถในการพัฒนา การนำไปใช้ การจัดการ และการบำรุงรักษาเทคโนโลยีปัญญาประดิษฐ์เชิงสร้างสรรค์ที่ซับซ้อนได้อย่างมีประสิทธิผล\n\n**5. ข้อพิจารณาด้านจริยธรรม**\n\nข้อพิจารณาด้านจริยธรรมที่เกี่ยวข้องกับปัญญาประดิษฐ์เชิงสร้างสรรค์กำลังได้รับความสนใจอย่างเข้มข้นและได้รับการย้ำเตือนอีกครั้งในปี 2025 ประเด็นสำคัญที่น่ากังวลได้แก่:\n\n*   **การแก้ไขอคติ:** ทำงานอย่างแข็งขันเพื่อระบุและกำจัดอคติภายในโมเดลและผลลัพธ์ของโมเดล\n*   **การเพิ่มความโปร่งใส:** ปรับปรุงความเข้าใจว่าโมเดล AI มาถึงผลลัพธ์ของตนได้อย่างไร (\"explainable AI\" หรือ AI ที่อธิบายได้)\n*   **การสร้างความน่าเชื่อถือ:** ส่งเสริมความไว้วางใจจากผู้ใช้และสังคมในระบบ AI และความสามารถของระบบ\n\nบริษัทต่างๆ กำลังสำรวจเทคนิคที่หลากหลายเพื่อจัดการกับข้อกังวลเหล่านี้ เช่น การฝึกฝนโมเดลด้วยชุดข้อมูลที่มีความหลากหลายและเป็นตัวแทนมากขึ้น และการนำเฟรมเวิร์กสำหรับ \"explainable AI\" มาใช้เพื่อให้ข้อมูลเชิงลึกเกี่ยวกับกระบวนการตัดสินใจ\n\n**6. ข้อกังวลด้านความยั่งยืน**\n\nในขณะที่โมเดลปัญญาประดิษฐ์เชิงสร้างสรรค์มีขนาดและความซับซ้อนเพิ่มขึ้น ความต้องการพลังงานที่สำคัญของโมเดลเหล่านั้นกำลังนำความยั่งยืนมาสู่เบื้องหน้าในฐานะข้อกังวลเร่งด่วน ความพยายามกำลังมุ่งเป้าไปที่การทำให้ AI ประหยัดพลังงานมากขึ้นผ่าน:\n\n*   การปรับปรุงอัลกอริทึมเพื่อลดภาระในการประมวลผล\n*   การพัฒนาฮาร์ดแวร์ที่ประหยัดพลังงานมากขึ้น\n*   การนำเทคนิคต่างๆ เช่น model pruning มาใช้เพื่อลดขนาดและความซับซ้อนของโมเดล\n*   การใช้ชิปประหยัดพลังงานแบบพิเศษ\n*   การเพิ่มการนำศูนย์ข้อมูลที่เป็นกลางทางคาร์บอนมาใช้สำหรับการโฮสต์โครงสร้างพื้นฐาน AI\n\n**7. แนวโน้มที่กำลังเกิดขึ้น**\n\nนอกเหนือจากความก้าวหน้าหลัก แนวโน้มที่กำลังเกิดขึ้นหลายประการบ่งบอกถึงทิศทางในอนาคตของปัญญาประดิษฐ์เชิงสร้างสรรค์:\n\n*   **Generative User Interfaces:** การเพิ่มขึ้นของส่วนต่อประสานกับผู้ใช้ที่ปรับเปลี่ยนและสร้างความเป็นส่วนตัวแบบไดนามิกโดยอิงจากการโต้ตอบกับผู้ใช้แบบเรียลไทม์\n*   **การผสานรวมกับ Hardware ที่ลึกซึ้งยิ่งขึ้น:** การผสานรวมแอปพลิเคชัน AI เข้ากับฮาร์ดแวร์โดยตรงที่เพิ่มขึ้น แสดงให้เห็นได้จากการเกิดขึ้นของ \"สมาร์ทโฟน AI\" และ \"พีซี AI\" ที่มีความสามารถในการประมวลผลโดยเฉพาะ\n*   **การมีส่วนร่วมจากชุมชน Open-Source:** ชุมชน AI แบบโอเพนซอร์สยังคงเป็นแรงผลักดันสำคัญของการสร้างสรรค์นวัตกรรม โดยโมเดลแบบเปิดกำลังได้รับความนิยมมากขึ้นและแสดงให้เห็นถึงการปรับปรุงประสิทธิภาพอย่างต่อเนื่อง\n\n**8. การนำมาใช้กับความเป็นจริง**\n\nในขณะที่การนำปัญญาประดิษฐ์เชิงสร้างสรรค์มาใช้แพร่หลาย แต่ก็เป็นที่ยอมรับว่ามีช่องว่างระหว่างความตื่นเต้นเริ่มต้น (\"กระแสฮือฮา\") กับความเป็นจริงของการบรรลุการบูรณาการเข้ากับการดำเนินงานหลักของธุรกิจอย่างเต็มรูปแบบและราบรื่นสำหรับองค์กรจำนวนมาก อย่างไรก็ตาม ธุรกิจต่างๆ กำลังก้าวผ่านขั้นตอนการทดลองและกำลังเรียนรู้ว่าปัญญาประดิษฐ์เชิงสร้างสรรค์สามารถเพิ่มมูลค่าที่แสดงให้เห็นได้จริงที่ใด ความเข้าใจนี้กำลังนำไปสู่การบูรณาการเทคโนโลยีเหล่านี้ที่เป็นจริง เป็นเชิงกลยุทธ์ และยั่งยืนมากขึ้น โดยมุ่งเน้นไปที่กรณีการใช้งานที่เฉพาะเจาะจงที่ให้ประโยชน์ที่จับต้องได้\n\n**9. บทสรุป**\n\nสถานะปัจจุบันของปัญญาประดิษฐ์เชิงสร้างสรรค์ในปี 2025 มีลักษณะเด่นคือ การเติบโตแบบพลวัต ความซับซ้อนที่เพิ่มขึ้น และขอบเขตแอปพลิเคชันที่กว้างขวางขึ้นในเกือบทุกภาคส่วน การปรับเปลี่ยนสู่การออกแบบที่ AI-first ควบคู่ไปกับความก้าวหน้าในความสามารถแบบหลายโมดอลและ AI Agent แบบอัตโนมัติ บ่งชี้ถึงเทคโนโลยีที่กำลังเติบโตเต็มที่ อย่างไรก็ตาม การขยายตัวนี้มาพร้อมกับความท้าทายทางเทคนิคที่สำคัญที่เกี่ยวข้องกับข้อมูล การบูรณาการ และความสามารถในการขยายขนาด รวมถึงปัญหาด้านจริยธรรมและสังคมที่สำคัญเกี่ยวกับอคติ ความปลอดภัย ทรัพย์สินทางปัญญา และความยั่งยืน ในขณะที่ธุรกิจต่างๆ รับมือกับความซับซ้อนเหล่านี้ พวกเขากำลังมุ่งสู่รูปแบบการบูรณาการที่เป็นจริงและยั่งยืนมากขึ้น โดยเน้นที่การส่งมอบมูลค่าที่ได้รับการพิสูจน์แล้ว ปัญญาประดิษฐ์เชิงสร้างสรรค์ยังคงเป็นพลังขับเคลื่อนที่ทรงพลังและพลิกโฉม พร้อมสำหรับการพัฒนาต่อไป ขณะเดียวกันก็ต้องการการจัดการความท้าทายที่เกี่ยวข้องอย่างรอบคอบ"
          },
          "metadata": {}
        },
        {
          "output_type": "display_data",
          "data": {
            "text/plain": [
              "<IPython.core.display.Markdown object>"
            ],
            "text/markdown": "## ArabAgent"
          },
          "metadata": {}
        },
        {
          "output_type": "display_data",
          "data": {
            "text/plain": [
              "<IPython.core.display.Markdown object>"
            ],
            "text/markdown": "بالتأكيد، إليك النسخة المترجمة إلى اللغة العربية للتقرير:\n\n---\n\n## تقرير شامل عن الحالة الراهنة للذكاء الاصطناعي التوليدي في عام 2025\n\n**الملخص التنفيذي:**\n\nفي عام 2025، يقف الذكاء الاصطناعي التوليدي كتقنية تحويلية، تتطور بسرعة من ميزة تكميلية إلى مكون أساسي في تصميم التطبيقات، مما يدفع إلى ظهور حلول \"الذكاء الاصطناعي أولاً\". تشمل التطورات الرئيسية نضوج الذكاء الاصطناعي متعدد الأنماط، وتفاعلات وكلاء الذكاء الاصطناعي المتطورة في الوقت الفعلي، وتسريع دمج الوكلاء المستقلين في سير عمل المؤسسات. يؤثر التخصيص الفائق بشكل كبير على مختلف القطاعات. التبني والاستثمار واسعان النطاق عبر الصناعات لتطبيقات متنوعة. يواجه المجال تحديات كبيرة تتعلق بالبيانات، والتحيز، والتكامل، وقابلية التوسع، والأمن، والملكية الفكرية. في الوقت نفسه، تحظى الاعتبارات الأخلاقية المتعلقة بالتحيز والشفافية والثقة، إلى جانب المخاوف المتعلقة بالاستدامة المتصلة باستهلاك الطاقة، بتركيز متزايد. تشمل الاتجاهات الناشئة واجهات المستخدم التوليدية والتكامل الأعمق للأجهزة (الهاردوير). على الرغم من الاهتمام الواسع النطاق، توجد فجوة بين الضجيج الأولي والتكامل الكامل في صلب الأعمال، مع تركيز المؤسسات على تحديد وتطبيق التطبيقات الواقعية ذات القيمة المضافة، بالتوازي مع معالجة التحديات التقنية والأخلاقية والاجتماعية المعقدة.\n\n**1. المقدمة**\n\nيخضع الذكاء الاصطناعي التوليدي، الذي يُعرف بقدرته على إنشاء محتوى جديد ومبتكر، لفترة من النمو الديناميكي والتعقيد المتزايد في عام 2025. يتسع نفوذه عبر التكنولوجيا والأعمال، متجاوزاً تطبيقاته الأولية كميزة إضافية. يشير هذا التحول إلى تغيير جوهري في كيفية تصميم التطبيقات، مما يؤدي إلى ظهور مناهج \"الذكاء الاصطناعي أولاً\" حيث تكون القدرات التوليدية مركزية في هيكل ووظيفة النظام.\n\n**2. التطورات والاتجاهات الرئيسية**\n\nتشكل العديد من الاتجاهات الهامة المشهد العام للذكاء الاصطناعي التوليدي في عام 2025:\n\n*   **الانتقال إلى تطبيقات \"الذكاء الاصطناعي أولاً\":** أصبح الذكاء الاصطناعي التوليدي بشكل متزايد الطبقة الأساسية للتطبيقات الجديدة، بدلاً من مجرد تحسين التطبيقات الحالية. يؤكد هذا التحول الاستراتيجي على الدور الأساسي للذكاء الاصطناعي في تقديم قيمة جوهرية.\n*   **التطور في الذكاء الاصطناعي متعدد الأنماط:** اتجاه رئيسي هو القدرة المتزايدة لنماذج الذكاء الاصطناعي على معالجة وإنشاء المحتوى بسلاسة عبر أنماط متعددة بما في ذلك النصوص والصور والصوت والفيديو. يعزز هذا من تجارب المستخدم ويفتح آفاقاً جديدة لإنشاء المحتوى والتفاعل.\n*   **تفاعلات وكلاء الذكاء الاصطناعي المتطورة في الوقت الفعلي:** يحقق وكلاء الذكاء الاصطناعي قدرات تفاعل متطورة في الوقت الفعلي، بما في ذلك فهم اللغة المنطوقة وتوليد المحتوى الصوتي تلقائياً. يقلل هذا من الاعتماد على هندسة المطالبات التقليدية لبعض المهام، مما يجعل التفاعلات أكثر طبيعية وكفاءة.\n*   **تسريع تطوير ودمج وكلاء الذكاء الاصطناعي:** يتسارع تطوير ونشر وكلاء الذكاء الاصطناعي المصممين للمهام المستقلة. يتم دمج هؤلاء الوكلاء بشكل متزايد ومباشر في سير عمل المؤسسات. تشير قدرتهم على الاستفادة من بيانات المؤسسة والعمليات الداخلية إلى أنهم قد يصبحون أكثر هيمنة من المناهج مثل Retrieval-Augmented Generation (RAG - التوليد المدعوم بالاسترجاع) في تطبيقات محددة، من خلال تقديم نتائج أكثر دقة وملاءمة للسياق.\n*   **صعود التخصيص الفائق:** يدفع الذكاء الاصطناعي التوليدي تأثيراً كبيراً من خلال التخصيص الفائق. من خلال تحليل بيانات المستخدم وتفضيلاته التفصيلية، يمكن للذكاء الاصطناعي تكييف التجارب عبر قطاعات متنوعة. تشمل الأمثلة توليد أوصاف فريدة للمنتجات وتمكين التجارب الافتراضية في التجارة الإلكترونية، وتطوير خطط علاجية شديدة الفردية في الرعاية الصحية.\n\n**3. التبني والاستثمار**\n\nالتبني والاستثمار في حلول الذكاء الاصطناعي التوليدي واسعان النطاق عبر العديد من الصناعات في عام 2025. تقوم الشركات بنشر الذكاء الاصطناعي بنشاط لمجموعة متنوعة من المهام، متجاوزة مجرد إنشاء المحتوى البسيط. تشمل هذه التطبيقات:\n\n*   إنشاء المحتوى العام.\n*   أتمتة التسويق وتوليد المحتوى الديناميكي.\n*   أتمتة خدمة العملاء.\n*   دعم القرار الاستراتيجي.\n*   البحث والتطوير العلمي.\n\nالتطبيقات البارزة الخاصة بصناعات معينة تشمل:\n\n*   **الرعاية الصحية:** تسريع اكتشاف الأدوية من خلال المحاكاة الجزيئية وتوليد بيانات مرضى اصطناعية لأغراض البحث والتدريب.\n*   **التسويق والإعلام:** إنشاء تجارب محتوى ديناميكية وشخصية.\n\nيؤكد هذا الانتشار الواسع عبر وظائف الأعمال الحيوية على القيمة المتصورة والعائد المحتمل على الاستثمار في تقنيات الذكاء الاصطناعي التوليدي.\n\n**4. التحديات المستمرة**\n\nعلى الرغم من التقدم السريع والتبني الواسع النطاق، لا تزال العديد من التحديات الكبيرة تواجه تطوير وتنفيذ حلول الذكاء الاصطناعي التوليدي:\n\n*   **مصدر البيانات وتخفيف التحيز:** لا يزال ضمان الوصول إلى بيانات متنوعة وعالية الجودة للتدريب يمثل تحدياً. علاوة على ذلك، فإن تخفيف التحيز داخل نماذج الذكاء الاصطناعي لضمان العدالة والإنصاف والموثوقية هو عقبة تقنية وأخلاقية حرجة ومستمرة.\n*   **التكامل مع الأنظمة الحالية:** يمكن أن يكون دمج نماذج وتطبيقات الذكاء الاصطناعي التوليدي المتطورة مع البنية التحتية لتكنولوجيا المعلومات القديمة أو الحالية للمؤسسات معقداً ويتطلب جهداً تقنياً كبيراً.\n*   **قابلية التوسع:** لا يزال توسيع نطاق حلول الذكاء الاصطناعي التوليدي للتعامل مع أعباء العمل المتزايدة، ومتطلبات المستخدمين، وحجم البيانات بكفاءة يمثل تحدياً تقنياً.\n*   **أمن البيانات:** حماية البيانات الحساسة المستخدمة في التدريب والمعالجة، لكل من الشركات والعملاء، هو مصدر قلق كبير يتطلب إجراءات أمنية قوية.\n*   **مخاوف الملكية الفكرية (IP):** تستمر النقاشات بخصوص حقوق الملكية الفكرية. يثير المبدعون قضايا حول استخدام بياناتهم المحمية بحقوق النشر في تدريب النماذج الكبيرة واحتمال إزاحة المبدعين البشريين بواسطة المحتوى الذي يولده الذكاء الاصطناعي.\n*   **القوى العاملة الماهرة:** هناك حاجة مُدرَكة لقوة عاملة ماهرة بما فيه الكفاية قادرة على تطوير ونشر وإدارة وصيانة تقنيات الذكاء الاصطناعي التوليدي المعقدة بفعالية.\n\n**5. الاعتبارات الأخلاقية**\n\nتحظى الاعتبارات الأخلاقية المحيطة بالذكاء الاصطناعي التوليدي بتركيز مكثف ومتجدد في عام 2025. تشمل مجالات الاهتمام الرئيسية:\n\n*   **مواجهة التحيز:** العمل بنشاط لتحديد التحيزات والقضاء عليها داخل النماذج ومخرجاتها.\n*   **زيادة الشفافية:** تحسين فهم كيفية وصول نماذج الذكاء الاصطناعي إلى مخرجاتها (\"الذكاء الاصطناعي القابل للتفسير\").\n*   **بناء الثقة:** تعزيز ثقة المستخدمين والمجتمع في أنظمة الذكاء الاصطناعي وقدراتها.\n\nتستكشف الشركات تقنيات مختلفة لمعالجة هذه المخاوف، مثل تدريب النماذج على مجموعات بيانات أكثر تنوعاً وتمثيلاً وتنفيذ أطر عمل لـ \"الذكاء الاصطناعي القابل للتفسير\" لتوفير رؤى حول عمليات اتخاذ القرار.\n\n**6. مخاوف الاستدامة**\n\nمع تزايد حجم وتعقيد نماذج الذكاء الاصطناعي التوليدي، تجلب متطلباتها الكبيرة من الطاقة قضية الاستدامة إلى الواجهة كشاغل ملح. تُوجه الجهود نحو جعل الذكاء الاصطناعي أكثر كفاءة في استخدام الطاقة من خلال:\n\n*   تحسين الخوارزميات لتقليل الحمل الحسابي.\n*   تطوير أجهزة (هاردوير) أكثر كفاءة في استخدام الطاقة.\n*   تطبيق تقنيات مثل تقليم النماذج لتقليل حجم النموذج وتعقيده.\n*   استخدام شرائح متخصصة موفرة للطاقة.\n*   زيادة تبني مراكز البيانات المحايدة للكربون لاستضافة بنية الذكاء الاصطناعي التحتية.\n\n**7. الاتجاهات الناشئة**\n\nبالإضافة إلى التطورات الأساسية، تشير عدة اتجاهات ناشئة إلى الاتجاه المستقبلي للذكاء الاصطناعي التوليدي:\n\n*   **واجهات المستخدم التوليدية:** صعود واجهات المستخدم التي تتكيف وتتخصص ديناميكياً بناءً على تفاعلات المستخدم في الوقت الفعلي.\n*   **التكامل الأعمق للأجهزة (الهاردوير):** زيادة دمج تطبيقات الذكاء الاصطناعي مباشرة مع الأجهزة (الهاردوير)، ويتجلى ذلك في ظهور \"الهواتف الذكية المزودة بالذكاء الاصطناعي\" و\"أجهزة الكمبيوتر الشخصية المزودة بالذكاء الاصطناعي\" مع قدرات معالجة مخصصة.\n*   **مساهمات مجتمع المصادر المفتوحة:** لا يزال مجتمع الذكاء الاصطناعي مفتوح المصدر محركاً مهماً للابتكار، حيث أصبحت النماذج المفتوحة أكثر شيوعاً وتظهر تحسناً مستمراً في الأداء.\n\n**8. التبني مقابل الواقع**\n\nبينما يعد تبني الذكاء الاصطناعي التوليدي واسع النطاق، توجد فجوة مُدرَكة بين الحماس الأولي (\"الضجيج\") وواقع تحقيق التكامل الكامل والسلس في العمليات الأساسية للأعمال لدى العديد من المؤسسات. مع ذلك، تتجاوز الشركات المرحلة التجريبية وتتعلم أين يضيف الذكاء الاصطناعي التوليدي قيمة ملموسة حقيقية. يؤدي هذا الفهم إلى تكامل أكثر واقعية واستراتيجية واستدامة لهذه التقنيات، مع التركيز على حالات استخدام محددة تحقق فوائد ملموسة.\n\n**9. الخاتمة**\n\nتتميز الحالة الراهنة للذكاء الاصطناعي التوليدي في عام 2025 بالنمو الديناميكي، والتعقيد المتزايد، وتوسع نطاق التطبيقات عبر جميع القطاعات تقريباً. يشير التحول نحو تصميم يعتمد على \"الذكاء الاصطناعي أولاً\"، إلى جانب التطورات في القدرات متعددة الأنماط والوكلاء المستقلين، إلى نضوج هذه التقنية. مع ذلك، يصاحب هذا التوسع تحديات تقنية كبيرة تتعلق بالبيانات والتكامل وقابلية التوسع، بالإضافة إلى قضايا أخلاقية واجتماعية حرجة تتعلق بالتحيز والأمن والملكية الفكرية والاستدامة. بينما تتنقل الشركات عبر هذه التعقيدات، تتجه نحو نموذج تكامل أكثر واقعية واستدامة، مع التركيز على تقديم القيمة المثبتة. يظل الذكاء الاصطناعي التوليدي قوة تحويلية قوية، مستعدة لمزيد من التطور بينما يتطلب إدارة دقيقة للتحديات المصاحبة له.\n\n---\n\n**ملخص التغييرات التي تم إجراؤها:**\n\n*   تحسينات طفيفة في الصياغة لتحسين الانسيابية والاختصار في أقسام مختلفة.\n*   التأكد من استخدام المصطلحات بشكل متناسق (\"الذكاء الاصطناعي التوليدي\").\n*   أعيدت صياغة هياكل الجمل قليلاً لتحسين قابلية القراءة (على سبيل المثال، في الملخص التنفيذي والمقدمة).\n*   لم تكن هناك حاجة لتغييرات هيكلية كبيرة حيث كان التقرير الأصلي جيد التنظيم.\n*   تم التدقيق اللغوي للتحقق من الأخطاء النحوية والإملائية.\n*   كان التقرير بالفعل في حالة جيدة. كانت التعديلات طفيفة وركزت على تحسينات بسيطة في الأسلوب والوضوح."
          },
          "metadata": {}
        }
      ],
      "source": [
        "prompt = f\"translate this report: {report}\"\n",
        "output = await run_agent(parallel_runner, USER_ID, SESSION_ID, prompt)"
      ]
    },
    {
      "cell_type": "markdown",
      "id": "3a07e150-971d-4365-90d4-b9988262ac37",
      "metadata": {
        "id": "3a07e150-971d-4365-90d4-b9988262ac37"
      },
      "source": [
        "## Loop Agents\n",
        "\n",
        "Some workflow involves repetition or iterative refinement, such as like revising code. ADK also support such workflows.\n",
        "\n"
      ]
    },
    {
      "cell_type": "code",
      "execution_count": null,
      "id": "505e7295-f03c-4e18-b52a-0123a31bd11f",
      "metadata": {
        "id": "505e7295-f03c-4e18-b52a-0123a31bd11f"
      },
      "outputs": [],
      "source": [
        "# Declare constants\n",
        "APP_NAME = \"loop_app\" # New App Name\n",
        "USER_ID = \"loop_user\"\n",
        "SESSION_ID = \"loop_session\" # New Base Session ID\n",
        "STATE_INITIAL_TOPIC = \"Kopi Luwak\"\n",
        "\n",
        "# Define state variables\n",
        "STATE_CURRENT_DOC = \"current_document\"\n",
        "STATE_CRITICISM = \"criticism\"\n",
        "\n",
        "# Define the exact phrase the Critic should use to signal completion\n",
        "COMPLETION_PHRASE = \"No major issues found.\""
      ]
    },
    {
      "cell_type": "markdown",
      "id": "da3658be-13f4-4def-adf8-b50abce6f2ac",
      "metadata": {
        "id": "da3658be-13f4-4def-adf8-b50abce6f2ac"
      },
      "source": [
        "#### Tools"
      ]
    },
    {
      "cell_type": "code",
      "execution_count": null,
      "id": "996f09a6-0140-4b70-aa29-bb332a696fd6",
      "metadata": {
        "id": "996f09a6-0140-4b70-aa29-bb332a696fd6"
      },
      "outputs": [],
      "source": [
        "# Define exit loop tool\n",
        "def exit_loop(tool_context: ToolContext):\n",
        "    \"\"\"Call this function ONLY when the critique indicates no further changes are needed, signaling the iterative process should end.\"\"\"\n",
        "    print(f\"[Tool Call] exit_loop triggered by {tool_context.agent_name}\")\n",
        "    tool_context.actions.escalate = True\n",
        "    # Return empty dict as tools should typically return JSON-serializable output\n",
        "    return {}"
      ]
    },
    {
      "cell_type": "markdown",
      "id": "ebca4074-ef6e-4af1-bb0c-0a4c958a25f5",
      "metadata": {
        "id": "ebca4074-ef6e-4af1-bb0c-0a4c958a25f5"
      },
      "source": [
        "#### Initial Writer Agent"
      ]
    },
    {
      "cell_type": "code",
      "execution_count": null,
      "id": "57fb6181-1cd5-4f3d-bbde-7524f58f1383",
      "metadata": {
        "id": "57fb6181-1cd5-4f3d-bbde-7524f58f1383"
      },
      "outputs": [],
      "source": [
        "# STEP 1: Initial Writer Agent (Runs ONCE at the beginning)\n",
        "initial_writer_agent = LlmAgent(\n",
        "    name=\"InitialWriterAgent\",\n",
        "    model=GEMINI_MODEL_NAME,\n",
        "    include_contents='none',\n",
        "    instruction=f\"\"\"You are a Creative Writing Assistant tasked with starting a story.\n",
        "    Write the *first draft* of a short story (aim for 2-4 sentences).\n",
        "    Base the content *only* on the topic provided below. Try to introduce a specific element (like a character, a setting detail, or a starting action) to make it engaging.\n",
        "    Topic: {{initial_topic}}\n",
        "\n",
        "    Output *only* the story/document text. Do not add introductions or explanations.\n",
        "\"\"\",\n",
        "    description=\"Writes the initial document draft based on the topic, aiming for some initial substance.\",\n",
        "    output_key=STATE_CURRENT_DOC\n",
        ")"
      ]
    },
    {
      "cell_type": "markdown",
      "id": "b271a244-1522-4ec3-8723-d5e595d4fac3",
      "metadata": {
        "id": "b271a244-1522-4ec3-8723-d5e595d4fac3"
      },
      "source": [
        "#### Critic Agent"
      ]
    },
    {
      "cell_type": "code",
      "execution_count": null,
      "id": "c4117648-3bc8-4207-9605-a5f79a9f3422",
      "metadata": {
        "id": "c4117648-3bc8-4207-9605-a5f79a9f3422"
      },
      "outputs": [],
      "source": [
        "# STEP 2a: Critic Agent (Inside the Refinement Loop)\n",
        "critic_agent_in_loop = LlmAgent(\n",
        "    name=\"CriticAgent\",\n",
        "    model=GEMINI_MODEL_NAME,\n",
        "    include_contents='none',\n",
        "    # MODIFIED Instruction: More nuanced completion criteria, look for clear improvement paths.\n",
        "    instruction=f\"\"\"You are a Constructive Critic AI reviewing a short document draft (typically 2-6 sentences). Your goal is balanced feedback.\n",
        "\n",
        "    **Document to Review:**\n",
        "    ```\n",
        "    {{current_document}}\n",
        "    ```\n",
        "\n",
        "    **Task:**\n",
        "    Review the document for clarity, engagement, and basic coherence according to the initial topic (if known).\n",
        "\n",
        "    IF you identify 1-2 *clear and actionable* ways the document could be improved to better capture the topic or enhance reader engagement (e.g., \"Needs a stronger opening sentence\", \"Clarify the character's goal\"):\n",
        "    Provide these specific suggestions concisely. Output *only* the critique text.\n",
        "\n",
        "    ELSE IF the document is coherent, addresses the topic adequately for its length (should be 1 page long), and has no glaring errors or obvious omissions:\n",
        "    Respond *exactly* with the phrase \"{COMPLETION_PHRASE}\" and nothing else. It doesn't need to be perfect, just functionally complete for this stage. Avoid suggesting purely subjective stylistic preferences if the core is sound.\n",
        "\n",
        "    Do not add explanations. Output only the critique OR the exact completion phrase.\n",
        "\"\"\",\n",
        "    description=\"Reviews the current draft, providing critique if clear improvements are needed, otherwise signals completion.\",\n",
        "    output_key=STATE_CRITICISM\n",
        ")"
      ]
    },
    {
      "cell_type": "markdown",
      "id": "dfb87b70-307b-430b-9b62-062f869d4a89",
      "metadata": {
        "id": "dfb87b70-307b-430b-9b62-062f869d4a89"
      },
      "source": [
        "### Refine Agent"
      ]
    },
    {
      "cell_type": "code",
      "execution_count": null,
      "id": "d76bd772-06ce-453d-9eec-16bee638d523",
      "metadata": {
        "id": "d76bd772-06ce-453d-9eec-16bee638d523"
      },
      "outputs": [],
      "source": [
        "# STEP 2b: Refiner/Exiter Agent (Inside the Refinement Loop)\n",
        "refiner_agent_in_loop = LlmAgent(\n",
        "    name=\"RefinerAgent\",\n",
        "    model=GEMINI_MODEL_NAME,\n",
        "    # Relies solely on state via placeholders\n",
        "    include_contents='none',\n",
        "    instruction=f\"\"\"You are a Creative Writing Assistant refining a document based on feedback OR exiting the process.\n",
        "    **Current Document:**\n",
        "    ```\n",
        "    {{current_document}}\n",
        "    ```\n",
        "    **Critique/Suggestions:**\n",
        "    {{criticism}}\n",
        "\n",
        "    **Task:**\n",
        "    Analyze the 'Critique/Suggestions'.\n",
        "    IF the critique is *exactly* \"{COMPLETION_PHRASE}\":\n",
        "    You MUST call the 'exit_loop' function. Do not output any text.\n",
        "    ELSE (the critique contains actionable feedback):\n",
        "    Carefully apply the suggestions to improve the 'Current Document'. Output *only* the refined document text.\n",
        "\n",
        "    Do not add explanations. Either output the refined document OR call the exit_loop function.\n",
        "\"\"\",\n",
        "    description=\"Refines the document based on critique, or calls exit_loop if critique indicates completion.\",\n",
        "    tools=[exit_loop], # Provide the exit_loop tool\n",
        "    output_key=STATE_CURRENT_DOC # Overwrites state['current_document'] with the refined version\n",
        ")"
      ]
    },
    {
      "cell_type": "markdown",
      "id": "bacca51b-d5f9-4eb2-bb7b-9b0a455a1933",
      "metadata": {
        "id": "bacca51b-d5f9-4eb2-bb7b-9b0a455a1933"
      },
      "source": [
        "#### Refinement Loop Agent"
      ]
    },
    {
      "cell_type": "code",
      "execution_count": null,
      "id": "e6002744-8ce7-41ea-b395-8075b8962657",
      "metadata": {
        "id": "e6002744-8ce7-41ea-b395-8075b8962657"
      },
      "outputs": [],
      "source": [
        "# STEP 2c: Refinement Loop Agent\n",
        "refinement_loop = LoopAgent(\n",
        "    name=\"RefinementLoop\",\n",
        "    # Agent order is crucial: Critique first, then Refine/Exit\n",
        "    sub_agents=[\n",
        "        critic_agent_in_loop,\n",
        "        refiner_agent_in_loop,\n",
        "    ],\n",
        "    max_iterations=5 # Limit loops\n",
        ")"
      ]
    },
    {
      "cell_type": "markdown",
      "id": "20fb73e4-97d5-4879-adba-ca1dd9152746",
      "metadata": {
        "id": "20fb73e4-97d5-4879-adba-ca1dd9152746"
      },
      "source": [
        "#### Overall Sequential Agent"
      ]
    },
    {
      "cell_type": "code",
      "execution_count": null,
      "id": "f2935ebc-6b9b-4355-a1ea-479c3f33e09c",
      "metadata": {
        "id": "f2935ebc-6b9b-4355-a1ea-479c3f33e09c"
      },
      "outputs": [],
      "source": [
        "# STEP 3: Overall Sequential Pipeline\n",
        "# For ADK tools compatibility, the root agent must be named `root_agent`\n",
        "root_agent = SequentialAgent(\n",
        "    name=\"IterativeWritingPipeline\",\n",
        "    sub_agents=[\n",
        "        initial_writer_agent, # Run first to create initial doc\n",
        "        refinement_loop       # Then run the critique/refine loop\n",
        "    ],\n",
        "    description=\"Writes an initial document and then iteratively refines it with critique using an exit tool.\"\n",
        ")"
      ]
    },
    {
      "cell_type": "code",
      "execution_count": null,
      "id": "25a6988c-4c60-4358-9324-ea578cb5fdef",
      "metadata": {
        "id": "25a6988c-4c60-4358-9324-ea578cb5fdef"
      },
      "outputs": [],
      "source": [
        "# Initialize Session\n",
        "session_service = InMemorySessionService()\n",
        "\n",
        "session = await session_service.create_session(\n",
        "    app_name=APP_NAME,\n",
        "    user_id=USER_ID,\n",
        "    session_id=SESSION_ID,\n",
        "    state={\"initial_topic\": \"Kopi Luwak\"}\n",
        ")\n",
        "\n",
        "# Initialize Runner\n",
        "runner = Runner(\n",
        "    agent=root_agent,\n",
        "    app_name=APP_NAME,\n",
        "    session_service=session_service,\n",
        ")"
      ]
    },
    {
      "cell_type": "code",
      "execution_count": null,
      "id": "0396f0fc-1a4d-4e36-aca0-770a7dfcab07",
      "metadata": {
        "colab": {
          "base_uri": "https://localhost:8080/",
          "height": 315
        },
        "id": "0396f0fc-1a4d-4e36-aca0-770a7dfcab07",
        "outputId": "b7427b4e-6bdb-4b50-d2d9-70b555529cd7"
      },
      "outputs": [
        {
          "data": {
            "text/markdown": [
              "## InitialWriterAgent"
            ],
            "text/plain": [
              "<IPython.core.display.Markdown object>"
            ]
          },
          "metadata": {},
          "output_type": "display_data"
        },
        {
          "data": {
            "text/markdown": [
              "Old Man Budi scanned the forest floor, his eyes sharp despite the morning mist, searching for the tell-tale droppings among the ferns and leaves. He knew the value hidden within the civet's waste – the unique beans destined for the world's most expensive cup. Each dark nugget he found felt like discovering a small, aromatic jewel in the damp earth. This was the strange beginning of Kopi Luwak."
            ],
            "text/plain": [
              "<IPython.core.display.Markdown object>"
            ]
          },
          "metadata": {},
          "output_type": "display_data"
        },
        {
          "data": {
            "text/markdown": [
              "## CriticAgent"
            ],
            "text/plain": [
              "<IPython.core.display.Markdown object>"
            ]
          },
          "metadata": {},
          "output_type": "display_data"
        },
        {
          "data": {
            "text/markdown": [
              "No major issues found."
            ],
            "text/plain": [
              "<IPython.core.display.Markdown object>"
            ]
          },
          "metadata": {},
          "output_type": "display_data"
        },
        {
          "name": "stderr",
          "output_type": "stream",
          "text": [
            "WARNING:google_genai.types:Warning: there are non-text parts in the response: ['function_call'],returning concatenated text result from text parts,check out the non text parts for full response from model.\n"
          ]
        },
        {
          "name": "stdout",
          "output_type": "stream",
          "text": [
            "[Tool Call] exit_loop triggered by RefinerAgent\n"
          ]
        },
        {
          "data": {
            "text/plain": [
              "{'InitialWriterAgent': \"Old Man Budi scanned the forest floor, his eyes sharp despite the morning mist, searching for the tell-tale droppings among the ferns and leaves. He knew the value hidden within the civet's waste – the unique beans destined for the world's most expensive cup. Each dark nugget he found felt like discovering a small, aromatic jewel in the damp earth. This was the strange beginning of Kopi Luwak.\",\n",
              " 'CriticAgent': 'No major issues found.'}"
            ]
          },
          "execution_count": 49,
          "metadata": {},
          "output_type": "execute_result"
        }
      ],
      "source": [
        "await run_agent(runner, USER_ID, SESSION_ID, \"write a comprehensive essay\")"
      ]
    },
    {
      "cell_type": "markdown",
      "id": "xYe-vmTUEOfd",
      "metadata": {
        "id": "xYe-vmTUEOfd",
        "tags": []
      },
      "source": [
        "# Conclusions\n",
        "\n",
        "You have explored how to create an agent using Gemini and Agent Development Kit."
      ]
    }
  ],
  "metadata": {
    "colab": {
      "provenance": []
    },
    "environment": {
      "kernel": "conda-base-py",
      "name": "workbench-notebooks.m126",
      "type": "gcloud",
      "uri": "us-docker.pkg.dev/deeplearning-platform-release/gcr.io/workbench-notebooks:m126"
    },
    "kernelspec": {
      "display_name": "Python 3 (ipykernel)",
      "language": "python",
      "name": "python3"
    },
    "language_info": {
      "codemirror_mode": {
        "name": "ipython",
        "version": 3
      },
      "file_extension": ".py",
      "mimetype": "text/x-python",
      "name": "python",
      "nbconvert_exporter": "python",
      "pygments_lexer": "ipython3",
      "version": "3.11.11"
    }
  },
  "nbformat": 4,
  "nbformat_minor": 5
}